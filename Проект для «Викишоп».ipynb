{
 "cells": [
  {
   "cell_type": "markdown",
   "metadata": {
    "toc": true
   },
   "source": [
    "<h1>Содержание<span class=\"tocSkip\"></span></h1>\n",
    "<div class=\"toc\"><ul class=\"toc-item\"><li><span><a href=\"#Подготовка\" data-toc-modified-id=\"Подготовка-1\"><span class=\"toc-item-num\">1&nbsp;&nbsp;</span>Подготовка</a></span></li><li><span><a href=\"#Обучение\" data-toc-modified-id=\"Обучение-2\"><span class=\"toc-item-num\">2&nbsp;&nbsp;</span>Обучение</a></span></li><li><span><a href=\"#Выводы\" data-toc-modified-id=\"Выводы-3\"><span class=\"toc-item-num\">3&nbsp;&nbsp;</span>Выводы</a></span></li><li><span><a href=\"#Чек-лист-проверки\" data-toc-modified-id=\"Чек-лист-проверки-4\"><span class=\"toc-item-num\">4&nbsp;&nbsp;</span>Чек-лист проверки</a></span></li></ul></div>"
   ]
  },
  {
   "cell_type": "markdown",
   "metadata": {},
   "source": [
    "# Проект для «Викишоп»"
   ]
  },
  {
   "cell_type": "markdown",
   "metadata": {},
   "source": [
    "Интернет-магазин «Викишоп» запускает новый сервис. Теперь пользователи могут редактировать и дополнять описания товаров, как в вики-сообществах. То есть клиенты предлагают свои правки и комментируют изменения других. Магазину нужен инструмент, который будет искать токсичные комментарии и отправлять их на модерацию. \n",
    "\n",
    "Обучите модель классифицировать комментарии на позитивные и негативные. В вашем распоряжении набор данных с разметкой о токсичности правок.\n",
    "\n",
    "Постройте модель со значением метрики качества *F1* не меньше 0.75. \n",
    "\n",
    "**Инструкция по выполнению проекта**\n",
    "\n",
    "1. Загрузите и подготовьте данные.\n",
    "2. Обучите разные модели. \n",
    "3. Сделайте выводы.\n",
    "\n",
    "Для выполнения проекта применять *BERT* необязательно, но вы можете попробовать.\n",
    "\n",
    "**Описание данных**\n",
    "\n",
    "Данные находятся в файле `toxic_comments.csv`. Столбец *text* в нём содержит текст комментария, а *toxic* — целевой признак."
   ]
  },
  {
   "cell_type": "markdown",
   "metadata": {},
   "source": [
    "## Подготовка"
   ]
  },
  {
   "cell_type": "code",
   "execution_count": 1,
   "metadata": {},
   "outputs": [],
   "source": [
    "import pandas as pd\n",
    "import matplotlib.pyplot as plt\n",
    "import re\n",
    "import spacy"
   ]
  },
  {
   "cell_type": "code",
   "execution_count": 2,
   "metadata": {},
   "outputs": [],
   "source": [
    "\n",
    "from sklearn.linear_model import LogisticRegression\n",
    "from sklearn.model_selection import train_test_split\n",
    "from sklearn.tree import DecisionTreeClassifier\n",
    "\n",
    "\n",
    "from sklearn.model_selection import GridSearchCV\n",
    "from nltk.corpus import stopwords as nltk_stopwords\n",
    "from sklearn.feature_extraction.text import TfidfVectorizer\n",
    "from sklearn.metrics import f1_score\n",
    "from sklearn.ensemble import GradientBoostingClassifier"
   ]
  },
  {
   "cell_type": "code",
   "execution_count": 3,
   "metadata": {},
   "outputs": [],
   "source": [
    "df = pd.read_csv('/datasets/toxic_comments.csv')"
   ]
  },
  {
   "cell_type": "code",
   "execution_count": 4,
   "metadata": {},
   "outputs": [
    {
     "data": {
      "text/html": [
       "<div>\n",
       "<style scoped>\n",
       "    .dataframe tbody tr th:only-of-type {\n",
       "        vertical-align: middle;\n",
       "    }\n",
       "\n",
       "    .dataframe tbody tr th {\n",
       "        vertical-align: top;\n",
       "    }\n",
       "\n",
       "    .dataframe thead th {\n",
       "        text-align: right;\n",
       "    }\n",
       "</style>\n",
       "<table border=\"1\" class=\"dataframe\">\n",
       "  <thead>\n",
       "    <tr style=\"text-align: right;\">\n",
       "      <th></th>\n",
       "      <th>Unnamed: 0</th>\n",
       "      <th>text</th>\n",
       "      <th>toxic</th>\n",
       "    </tr>\n",
       "  </thead>\n",
       "  <tbody>\n",
       "    <tr>\n",
       "      <th>0</th>\n",
       "      <td>0</td>\n",
       "      <td>Explanation\\nWhy the edits made under my usern...</td>\n",
       "      <td>0</td>\n",
       "    </tr>\n",
       "    <tr>\n",
       "      <th>1</th>\n",
       "      <td>1</td>\n",
       "      <td>D'aww! He matches this background colour I'm s...</td>\n",
       "      <td>0</td>\n",
       "    </tr>\n",
       "    <tr>\n",
       "      <th>2</th>\n",
       "      <td>2</td>\n",
       "      <td>Hey man, I'm really not trying to edit war. It...</td>\n",
       "      <td>0</td>\n",
       "    </tr>\n",
       "    <tr>\n",
       "      <th>3</th>\n",
       "      <td>3</td>\n",
       "      <td>\"\\nMore\\nI can't make any real suggestions on ...</td>\n",
       "      <td>0</td>\n",
       "    </tr>\n",
       "    <tr>\n",
       "      <th>4</th>\n",
       "      <td>4</td>\n",
       "      <td>You, sir, are my hero. Any chance you remember...</td>\n",
       "      <td>0</td>\n",
       "    </tr>\n",
       "    <tr>\n",
       "      <th>...</th>\n",
       "      <td>...</td>\n",
       "      <td>...</td>\n",
       "      <td>...</td>\n",
       "    </tr>\n",
       "    <tr>\n",
       "      <th>159287</th>\n",
       "      <td>159446</td>\n",
       "      <td>\":::::And for the second time of asking, when ...</td>\n",
       "      <td>0</td>\n",
       "    </tr>\n",
       "    <tr>\n",
       "      <th>159288</th>\n",
       "      <td>159447</td>\n",
       "      <td>You should be ashamed of yourself \\n\\nThat is ...</td>\n",
       "      <td>0</td>\n",
       "    </tr>\n",
       "    <tr>\n",
       "      <th>159289</th>\n",
       "      <td>159448</td>\n",
       "      <td>Spitzer \\n\\nUmm, theres no actual article for ...</td>\n",
       "      <td>0</td>\n",
       "    </tr>\n",
       "    <tr>\n",
       "      <th>159290</th>\n",
       "      <td>159449</td>\n",
       "      <td>And it looks like it was actually you who put ...</td>\n",
       "      <td>0</td>\n",
       "    </tr>\n",
       "    <tr>\n",
       "      <th>159291</th>\n",
       "      <td>159450</td>\n",
       "      <td>\"\\nAnd ... I really don't think you understand...</td>\n",
       "      <td>0</td>\n",
       "    </tr>\n",
       "  </tbody>\n",
       "</table>\n",
       "<p>159292 rows × 3 columns</p>\n",
       "</div>"
      ],
      "text/plain": [
       "        Unnamed: 0                                               text  toxic\n",
       "0                0  Explanation\\nWhy the edits made under my usern...      0\n",
       "1                1  D'aww! He matches this background colour I'm s...      0\n",
       "2                2  Hey man, I'm really not trying to edit war. It...      0\n",
       "3                3  \"\\nMore\\nI can't make any real suggestions on ...      0\n",
       "4                4  You, sir, are my hero. Any chance you remember...      0\n",
       "...            ...                                                ...    ...\n",
       "159287      159446  \":::::And for the second time of asking, when ...      0\n",
       "159288      159447  You should be ashamed of yourself \\n\\nThat is ...      0\n",
       "159289      159448  Spitzer \\n\\nUmm, theres no actual article for ...      0\n",
       "159290      159449  And it looks like it was actually you who put ...      0\n",
       "159291      159450  \"\\nAnd ... I really don't think you understand...      0\n",
       "\n",
       "[159292 rows x 3 columns]"
      ]
     },
     "execution_count": 4,
     "metadata": {},
     "output_type": "execute_result"
    }
   ],
   "source": [
    "df"
   ]
  },
  {
   "cell_type": "code",
   "execution_count": 5,
   "metadata": {},
   "outputs": [
    {
     "name": "stdout",
     "output_type": "stream",
     "text": [
      "<class 'pandas.core.frame.DataFrame'>\n",
      "RangeIndex: 159292 entries, 0 to 159291\n",
      "Data columns (total 3 columns):\n",
      " #   Column      Non-Null Count   Dtype \n",
      "---  ------      --------------   ----- \n",
      " 0   Unnamed: 0  159292 non-null  int64 \n",
      " 1   text        159292 non-null  object\n",
      " 2   toxic       159292 non-null  int64 \n",
      "dtypes: int64(2), object(1)\n",
      "memory usage: 3.6+ MB\n"
     ]
    }
   ],
   "source": [
    "df.info()"
   ]
  },
  {
   "cell_type": "code",
   "execution_count": 6,
   "metadata": {},
   "outputs": [
    {
     "data": {
      "text/plain": [
       "Unnamed: 0    0\n",
       "text          0\n",
       "toxic         0\n",
       "dtype: int64"
      ]
     },
     "execution_count": 6,
     "metadata": {},
     "output_type": "execute_result"
    }
   ],
   "source": [
    "df.isna().sum() # Посмотрим пропуски."
   ]
  },
  {
   "cell_type": "code",
   "execution_count": 7,
   "metadata": {},
   "outputs": [
    {
     "name": "stdout",
     "output_type": "stream",
     "text": [
      "0\n"
     ]
    }
   ],
   "source": [
    "print(df.duplicated().sum()) # Проверим есть ли явные дублекаты"
   ]
  },
  {
   "cell_type": "code",
   "execution_count": 8,
   "metadata": {},
   "outputs": [
    {
     "name": "stdout",
     "output_type": "stream",
     "text": [
      "0    143106\n",
      "1     16186\n",
      "Name: toxic, dtype: int64\n"
     ]
    },
    {
     "data": {
      "image/png": "[encoded data removed]",
      "text/plain": [
       "<Figure size 576x432 with 1 Axes>"
      ]
     },
     "metadata": {
      "needs_background": "light"
     },
     "output_type": "display_data"
    }
   ],
   "source": [
    "# загрузим данные и выведем количество объектов каждого класса\n",
    "\n",
    "count_classes = df['toxic'].value_counts()\n",
    "print(count_classes)\n",
    "\n",
    "# создаем график\n",
    "plt.figure(figsize=(8, 6))\n",
    "plt.bar(count_classes.index, count_classes.values, alpha=0.8, color=['red', 'green'])\n",
    "plt.xticks([0, 1], ['0', '1'])\n",
    "plt.ylabel('Количество')\n",
    "plt.xlabel('Классы')\n",
    "plt.title('Распределение классов в целевом признаке')\n",
    "plt.show()"
   ]
  },
  {
   "cell_type": "markdown",
   "metadata": {},
   "source": [
    "Набоюдается распределения смещения классов (значит линейную регресию использовать небудем)."
   ]
  },
  {
   "cell_type": "markdown",
   "metadata": {},
   "source": [
    "Очистим тексты от символов и приведем все в нижнему регистру:"
   ]
  },
  {
   "cell_type": "code",
   "execution_count": 9,
   "metadata": {},
   "outputs": [
    {
     "data": {
      "text/html": [
       "<div>\n",
       "<style scoped>\n",
       "    .dataframe tbody tr th:only-of-type {\n",
       "        vertical-align: middle;\n",
       "    }\n",
       "\n",
       "    .dataframe tbody tr th {\n",
       "        vertical-align: top;\n",
       "    }\n",
       "\n",
       "    .dataframe thead th {\n",
       "        text-align: right;\n",
       "    }\n",
       "</style>\n",
       "<table border=\"1\" class=\"dataframe\">\n",
       "  <thead>\n",
       "    <tr style=\"text-align: right;\">\n",
       "      <th></th>\n",
       "      <th>Unnamed: 0</th>\n",
       "      <th>text</th>\n",
       "      <th>toxic</th>\n",
       "    </tr>\n",
       "  </thead>\n",
       "  <tbody>\n",
       "    <tr>\n",
       "      <th>0</th>\n",
       "      <td>0</td>\n",
       "      <td>explanation why the edits made under my userna...</td>\n",
       "      <td>0</td>\n",
       "    </tr>\n",
       "    <tr>\n",
       "      <th>1</th>\n",
       "      <td>1</td>\n",
       "      <td>daww he matches this background colour im seem...</td>\n",
       "      <td>0</td>\n",
       "    </tr>\n",
       "    <tr>\n",
       "      <th>2</th>\n",
       "      <td>2</td>\n",
       "      <td>hey man im really not trying to edit war its j...</td>\n",
       "      <td>0</td>\n",
       "    </tr>\n",
       "    <tr>\n",
       "      <th>3</th>\n",
       "      <td>3</td>\n",
       "      <td>more i cant make any real suggestions on impro...</td>\n",
       "      <td>0</td>\n",
       "    </tr>\n",
       "    <tr>\n",
       "      <th>4</th>\n",
       "      <td>4</td>\n",
       "      <td>you sir are my hero any chance you remember wh...</td>\n",
       "      <td>0</td>\n",
       "    </tr>\n",
       "  </tbody>\n",
       "</table>\n",
       "</div>"
      ],
      "text/plain": [
       "   Unnamed: 0                                               text  toxic\n",
       "0           0  explanation why the edits made under my userna...      0\n",
       "1           1  daww he matches this background colour im seem...      0\n",
       "2           2  hey man im really not trying to edit war its j...      0\n",
       "3           3  more i cant make any real suggestions on impro...      0\n",
       "4           4  you sir are my hero any chance you remember wh...      0"
      ]
     },
     "execution_count": 9,
     "metadata": {},
     "output_type": "execute_result"
    }
   ],
   "source": [
    "def clean_data(row):\n",
    "    row = re.sub(r\"(?:\\n|\\r)\", \" \", row)\n",
    "    row = re.sub(r\"[^a-zA-Z ]+\", \"\", row).strip()\n",
    "    row = row.lower()\n",
    "    return row\n",
    "\n",
    "df['text'] = df['text'].apply(clean_data)\n",
    "df.head()"
   ]
  },
  {
   "cell_type": "markdown",
   "metadata": {},
   "source": [
    "Разделим датасет."
   ]
  },
  {
   "cell_type": "code",
   "execution_count": 10,
   "metadata": {},
   "outputs": [],
   "source": [
    "# df_train_valid, df_test = train_test_split(df, test_size = 0.1, random_state = 12345)\n",
    "# df_train, df_valid = train_test_split(df_train_valid, shuffle=False, test_size=0.25, random_state = 12345)\n",
    "# print(df_train.shape, df_valid.shape, df_test.shape)"
   ]
  },
  {
   "cell_type": "code",
   "execution_count": 11,
   "metadata": {},
   "outputs": [
    {
     "name": "stdout",
     "output_type": "stream",
     "text": [
      "(107521, 3) (35841, 3) (15930, 3)\n"
     ]
    }
   ],
   "source": [
    "df_train_valid, df_test = train_test_split(df, test_size=0.1, random_state=12345, stratify=df['toxic'])\n",
    "df_train, df_valid = train_test_split(df_train_valid, test_size=0.25, random_state=12345, stratify=df_train_valid['toxic'])\n",
    "print(df_train.shape, df_valid.shape, df_test.shape)"
   ]
  },
  {
   "cell_type": "markdown",
   "metadata": {},
   "source": [
    "Прежде чем извлечь признаки из текста, упростим его. Приведение слова к начальной форме — лемме, функцию лемматизации:"
   ]
  },
  {
   "cell_type": "code",
   "execution_count": 14,
   "metadata": {},
   "outputs": [
    {
     "name": "stderr",
     "output_type": "stream",
     "text": [
      "/tmp/ipykernel_108/3367756901.py:8: SettingWithCopyWarning: \n",
      "A value is trying to be set on a copy of a slice from a DataFrame.\n",
      "Try using .loc[row_indexer,col_indexer] = value instead\n",
      "\n",
      "See the caveats in the documentation: https://pandas.pydata.org/pandas-docs/stable/user_guide/indexing.html#returning-a-view-versus-a-copy\n",
      "  df_train[\"text_lemmatized\"] = df_train[\"text\"].apply(lemma_clear)\n",
      "/tmp/ipykernel_108/3367756901.py:9: SettingWithCopyWarning: \n",
      "A value is trying to be set on a copy of a slice from a DataFrame.\n",
      "Try using .loc[row_indexer,col_indexer] = value instead\n",
      "\n",
      "See the caveats in the documentation: https://pandas.pydata.org/pandas-docs/stable/user_guide/indexing.html#returning-a-view-versus-a-copy\n",
      "  df_valid[\"text_lemmatized\"] = df_valid[\"text\"].apply(lemma_clear)\n",
      "/tmp/ipykernel_108/3367756901.py:10: SettingWithCopyWarning: \n",
      "A value is trying to be set on a copy of a slice from a DataFrame.\n",
      "Try using .loc[row_indexer,col_indexer] = value instead\n",
      "\n",
      "See the caveats in the documentation: https://pandas.pydata.org/pandas-docs/stable/user_guide/indexing.html#returning-a-view-versus-a-copy\n",
      "  df_test[\"text_lemmatized\"] = df_test[\"text\"].apply(lemma_clear)\n"
     ]
    }
   ],
   "source": [
    "nlp = spacy.load('en_core_web_sm')\n",
    "\n",
    "def lemma_clear(text):\n",
    "    lemm = nlp(text)\n",
    "    lemm = \" \".join([token.lemma_ for token in lemm])\n",
    "    return \" \".join(lemm.split())\n",
    "\n",
    "df_train[\"text_lemmatized\"] = df_train[\"text\"].apply(lemma_clear)\n",
    "df_valid[\"text_lemmatized\"] = df_valid[\"text\"].apply(lemma_clear)\n",
    "df_test[\"text_lemmatized\"] = df_test[\"text\"].apply(lemma_clear)"
   ]
  },
  {
   "cell_type": "code",
   "execution_count": 15,
   "metadata": {},
   "outputs": [],
   "source": [
    "train_corpus = df_train[\"text_lemmatized\"].values"
   ]
  },
  {
   "cell_type": "code",
   "execution_count": 16,
   "metadata": {},
   "outputs": [],
   "source": [
    "#train_corpus = df_train['text'].values"
   ]
  },
  {
   "cell_type": "code",
   "execution_count": 17,
   "metadata": {},
   "outputs": [],
   "source": [
    "stopwords = set(nltk_stopwords.words('english'))\n",
    "count_tf_idf = TfidfVectorizer(stop_words=stopwords, ngram_range=(1,1))\n",
    "tf_idf_train = count_tf_idf.fit_transform(train_corpus)"
   ]
  },
  {
   "cell_type": "code",
   "execution_count": 19,
   "metadata": {},
   "outputs": [],
   "source": [
    "valid_corpus = df_valid[\"text_lemmatized\"].values"
   ]
  },
  {
   "cell_type": "code",
   "execution_count": 21,
   "metadata": {},
   "outputs": [],
   "source": [
    "tf_idf_valid = count_tf_idf.transform(valid_corpus)"
   ]
  },
  {
   "cell_type": "code",
   "execution_count": 23,
   "metadata": {},
   "outputs": [],
   "source": [
    "test_corpus = df_test[\"text_lemmatized\"].values"
   ]
  },
  {
   "cell_type": "code",
   "execution_count": 24,
   "metadata": {},
   "outputs": [],
   "source": [
    "#test_corpus = df_test['text'].values"
   ]
  },
  {
   "cell_type": "code",
   "execution_count": 25,
   "metadata": {},
   "outputs": [],
   "source": [
    "tf_idf_test = count_tf_idf.transform(test_corpus)"
   ]
  },
  {
   "cell_type": "markdown",
   "metadata": {},
   "source": [
    "Извлекаем признаки."
   ]
  },
  {
   "cell_type": "code",
   "execution_count": 26,
   "metadata": {},
   "outputs": [
    {
     "name": "stdout",
     "output_type": "stream",
     "text": [
      "(107521, 3) (35841, 3) (15930, 3) 107521\n"
     ]
    }
   ],
   "source": [
    "features_train = df_train.drop('toxic', axis=1).values\n",
    "target_train = df_train['toxic'].values\n",
    "\n",
    "features_valid = df_valid.drop('toxic', axis=1).values\n",
    "target_valid = df_valid['toxic'].values\n",
    "\n",
    "features_test = df_test.drop('toxic', axis=1).values\n",
    "target_test = df_test['toxic'].values\n",
    "\n",
    "print(features_train.shape, features_valid.shape, features_test.shape, target_train.shape[0])"
   ]
  },
  {
   "cell_type": "markdown",
   "metadata": {},
   "source": [
    "Загрузили файл и посмотрели есть ли пропуски и дубликаты. Их обноружено небыло. Прежде чем извлечь признаки из текста, провели функцию лемматизации. Посмотрели на разных выборках исходный и лемматизированый текст. Извлекли признаки."
   ]
  },
  {
   "cell_type": "markdown",
   "metadata": {},
   "source": [
    "## Обучение"
   ]
  },
  {
   "cell_type": "markdown",
   "metadata": {},
   "source": [
    "Используем модель логистической регрессии для обучения."
   ]
  },
  {
   "cell_type": "code",
   "execution_count": 27,
   "metadata": {},
   "outputs": [
    {
     "name": "stdout",
     "output_type": "stream",
     "text": [
      "Fitting 3 folds for each of 10 candidates, totalling 30 fits\n",
      "Лучшие параметры {'C': 4, 'penalty': 'l1'}\n",
      "Лучший результат 0.770176590696244\n",
      "CPU times: user 1min 58s, sys: 2min 6s, total: 4min 5s\n",
      "Wall time: 4min 5s\n"
     ]
    }
   ],
   "source": [
    "%%time\n",
    "# создаем модель\n",
    "lr = LogisticRegression(random_state=42, solver='liblinear', max_iter=1000)\n",
    "# задаем параметры для перебора\n",
    "params = {'penalty':['l1', 'l2'], 'C':list(range(1,15,3))}\n",
    "\n",
    "\n",
    "# создаем объект GridSearchCV\n",
    "lr_gs = GridSearchCV(lr, params, cv=3, scoring='f1', verbose=True, n_jobs=-1)\n",
    "# обучаем модель с помощью GridSearchCV\n",
    "lr_gs.fit(tf_idf_train, target_train)\n",
    "\n",
    "print (\"Лучшие параметры\", lr_gs.best_params_)\n",
    "print (\"Лучший результат\", lr_gs.best_score_)"
   ]
  },
  {
   "cell_type": "markdown",
   "metadata": {},
   "source": [
    "Проверим логистическую регрессию на:"
   ]
  },
  {
   "cell_type": "markdown",
   "metadata": {},
   "source": [
    "валидационной выборке:"
   ]
  },
  {
   "cell_type": "code",
   "execution_count": 28,
   "metadata": {},
   "outputs": [
    {
     "data": {
      "text/plain": [
       "0.782724449045999"
      ]
     },
     "execution_count": 28,
     "metadata": {},
     "output_type": "execute_result"
    }
   ],
   "source": [
    "pred_valid = lr_gs.predict(tf_idf_valid)\n",
    "f1_score(target_valid, pred_valid)"
   ]
  },
  {
   "cell_type": "markdown",
   "metadata": {},
   "source": [
    "Проверим теперь решающее дерево:"
   ]
  },
  {
   "cell_type": "code",
   "execution_count": 29,
   "metadata": {},
   "outputs": [
    {
     "name": "stdout",
     "output_type": "stream",
     "text": [
      "Fitting 3 folds for each of 6 candidates, totalling 18 fits\n",
      "Best Params {'criterion': 'gini', 'max_depth': 11}\n",
      "Best Score 0.6095356961473459\n",
      "CPU times: user 2min 28s, sys: 142 ms, total: 2min 28s\n",
      "Wall time: 2min 29s\n"
     ]
    }
   ],
   "source": [
    "%%time\n",
    "tree = DecisionTreeClassifier(random_state=123)\n",
    "params = {'criterion': ['gini', 'entropy'], 'max_depth': list(range(1, 15, 5))}\n",
    "\n",
    "tree_gs = GridSearchCV(tree, params, cv=3, scoring='f1', verbose=True, n_jobs=-1).fit(tf_idf_train, target_train)\n",
    "\n",
    "print(\"Best Params\", tree_gs.best_params_)\n",
    "print(\"Best Score\", tree_gs.best_score_)"
   ]
  },
  {
   "cell_type": "markdown",
   "metadata": {},
   "source": [
    "Проверим на валидационной:"
   ]
  },
  {
   "cell_type": "code",
   "execution_count": 30,
   "metadata": {},
   "outputs": [
    {
     "data": {
      "text/plain": [
       "0.608742774566474"
      ]
     },
     "execution_count": 30,
     "metadata": {},
     "output_type": "execute_result"
    }
   ],
   "source": [
    "tree_best = DecisionTreeClassifier(random_state = 123, criterion='gini', max_depth=11)\n",
    "tree_best.fit(tf_idf_train, target_train)\n",
    "pred2 = tree_best.predict(tf_idf_valid)\n",
    "f1_score(target_valid, pred2)"
   ]
  },
  {
   "cell_type": "markdown",
   "metadata": {},
   "source": [
    "Как и ожидалось решающее дерево дает слабые результаты."
   ]
  },
  {
   "cell_type": "markdown",
   "metadata": {},
   "source": [
    "Градиентный бустинг"
   ]
  },
  {
   "cell_type": "code",
   "execution_count": 31,
   "metadata": {},
   "outputs": [],
   "source": [
    "# %%time\n",
    "# # создаем модель\n",
    "# gb = GradientBoostingClassifier(random_state=42)\n",
    "# # задаем параметры для перебора\n",
    "# params = {\n",
    "#     'learning_rate': [0.1, 0.3],\n",
    "#     'n_estimators': [50, 100],\n",
    "#     'max_depth': [3, 5]\n",
    "# }\n",
    "\n",
    "# # создаем объект GridSearchCV\n",
    "# gb_gs = GridSearchCV(gb, params, cv=3, scoring='f1', verbose=True, n_jobs=-1)\n",
    "# # обучаем модель с помощью GridSearchCV\n",
    "# gb_gs.fit(tf_idf_train, target_train)\n",
    "\n",
    "# print (\"Лучшие параметры\", gb_gs.best_params_)\n",
    "# print (\"Лучший результат\", gb_gs.best_score_)"
   ]
  },
  {
   "cell_type": "markdown",
   "metadata": {},
   "source": [
    "Лучшей моделью удовлетворяющии наши условия это логистическая регрессия, проверим ее на тестовой выборки."
   ]
  },
  {
   "cell_type": "markdown",
   "metadata": {},
   "source": [
    "тестовой выборке:"
   ]
  },
  {
   "cell_type": "code",
   "execution_count": 32,
   "metadata": {},
   "outputs": [
    {
     "data": {
      "text/plain": [
       "0.7882670262980446"
      ]
     },
     "execution_count": 32,
     "metadata": {},
     "output_type": "execute_result"
    }
   ],
   "source": [
    "pred_test = lr_gs.predict(tf_idf_test)\n",
    "f1_score(target_test, pred_test)"
   ]
  },
  {
   "cell_type": "markdown",
   "metadata": {},
   "source": [
    "Для нашей работы использовали модель логистической регрессии. Она показывает результат не меньше требуемой."
   ]
  },
  {
   "cell_type": "markdown",
   "metadata": {},
   "source": [
    "## Выводы"
   ]
  },
  {
   "cell_type": "markdown",
   "metadata": {},
   "source": [
    "Мы в  интернет-магазине «Викишоп» помогли запустить новый сервис, который будет искать токсичные комментарии и отправлять их на модерацию. \n",
    "Обучили модель классифицировать комментарии на позитивные и негативные. \n",
    "Построили модель со значением метрики качества F1 не меньше 0.75 использовав модель логистической регрессии. "
   ]
  },
  {
   "cell_type": "code",
   "execution_count": null,
   "metadata": {},
   "outputs": [],
   "source": []
  }
 ],
 "metadata": {
  "ExecuteTimeLog": [
   {
    "duration": 399,
    "start_time": "2023-04-21T16:11:03.894Z"
   },
   {
    "duration": 74,
    "start_time": "2023-04-21T16:11:04.513Z"
   },
   {
    "duration": 63,
    "start_time": "2023-04-21T16:11:17.874Z"
   },
   {
    "duration": 7,
    "start_time": "2023-04-21T16:12:52.548Z"
   },
   {
    "duration": 6,
    "start_time": "2023-04-21T16:13:17.361Z"
   },
   {
    "duration": 2,
    "start_time": "2023-04-21T16:14:02.345Z"
   },
   {
    "duration": 2249,
    "start_time": "2023-04-21T16:14:02.880Z"
   },
   {
    "duration": 17,
    "start_time": "2023-04-21T16:14:23.560Z"
   },
   {
    "duration": 8,
    "start_time": "2023-04-21T16:15:28.904Z"
   },
   {
    "duration": 31,
    "start_time": "2023-04-21T16:15:38.771Z"
   },
   {
    "duration": 7,
    "start_time": "2023-04-21T16:17:34.400Z"
   },
   {
    "duration": 25,
    "start_time": "2023-04-21T16:17:44.640Z"
   },
   {
    "duration": 6,
    "start_time": "2023-04-21T16:18:24.697Z"
   },
   {
    "duration": 218,
    "start_time": "2023-04-21T16:18:46.421Z"
   },
   {
    "duration": 453,
    "start_time": "2023-04-24T08:15:45.032Z"
   },
   {
    "duration": 2692,
    "start_time": "2023-04-24T08:15:45.488Z"
   },
   {
    "duration": 18,
    "start_time": "2023-04-24T08:15:48.182Z"
   },
   {
    "duration": 38,
    "start_time": "2023-04-24T08:15:48.202Z"
   },
   {
    "duration": 33,
    "start_time": "2023-04-24T08:15:48.243Z"
   },
   {
    "duration": 283,
    "start_time": "2023-04-24T08:15:48.278Z"
   },
   {
    "duration": 382,
    "start_time": "2023-04-24T13:37:32.689Z"
   },
   {
    "duration": 2454,
    "start_time": "2023-04-24T13:37:33.074Z"
   },
   {
    "duration": 18,
    "start_time": "2023-04-24T13:37:35.529Z"
   },
   {
    "duration": 32,
    "start_time": "2023-04-24T13:37:35.549Z"
   },
   {
    "duration": 44,
    "start_time": "2023-04-24T13:37:35.583Z"
   },
   {
    "duration": 265,
    "start_time": "2023-04-24T13:37:35.629Z"
   },
   {
    "duration": 76,
    "start_time": "2023-04-24T13:39:51.016Z"
   },
   {
    "duration": 349,
    "start_time": "2023-04-24T13:39:59.496Z"
   },
   {
    "duration": 1666,
    "start_time": "2023-04-24T13:47:10.483Z"
   },
   {
    "duration": 527,
    "start_time": "2023-04-24T13:47:14.081Z"
   },
   {
    "duration": 2,
    "start_time": "2023-04-24T13:47:39.023Z"
   },
   {
    "duration": 2559,
    "start_time": "2023-04-24T13:47:43.085Z"
   },
   {
    "duration": 27,
    "start_time": "2023-04-24T14:07:37.614Z"
   },
   {
    "duration": 34,
    "start_time": "2023-04-24T14:11:13.588Z"
   },
   {
    "duration": 1736,
    "start_time": "2023-04-24T16:54:06.722Z"
   },
   {
    "duration": 506,
    "start_time": "2023-04-24T16:54:08.461Z"
   },
   {
    "duration": 973,
    "start_time": "2023-04-24T16:54:08.968Z"
   },
   {
    "duration": 25,
    "start_time": "2023-04-24T16:54:09.943Z"
   },
   {
    "duration": 35,
    "start_time": "2023-04-24T16:54:09.970Z"
   },
   {
    "duration": 49,
    "start_time": "2023-04-24T16:54:10.007Z"
   },
   {
    "duration": 422,
    "start_time": "2023-04-24T16:54:10.058Z"
   },
   {
    "duration": 2544,
    "start_time": "2023-04-24T16:54:10.481Z"
   },
   {
    "duration": 37,
    "start_time": "2023-04-24T16:54:13.026Z"
   },
   {
    "duration": 38,
    "start_time": "2023-04-24T16:54:13.066Z"
   },
   {
    "duration": 1347,
    "start_time": "2023-04-24T17:03:27.318Z"
   },
   {
    "duration": 21,
    "start_time": "2023-04-24T17:22:04.869Z"
   },
   {
    "duration": 1778,
    "start_time": "2023-04-24T17:22:22.625Z"
   },
   {
    "duration": 504,
    "start_time": "2023-04-24T17:22:24.405Z"
   },
   {
    "duration": 2613,
    "start_time": "2023-04-24T17:22:24.911Z"
   },
   {
    "duration": 16,
    "start_time": "2023-04-24T17:22:27.526Z"
   },
   {
    "duration": 49,
    "start_time": "2023-04-24T17:22:27.544Z"
   },
   {
    "duration": 25,
    "start_time": "2023-04-24T17:22:27.595Z"
   },
   {
    "duration": 260,
    "start_time": "2023-04-24T17:22:27.621Z"
   },
   {
    "duration": 2694,
    "start_time": "2023-04-24T17:22:27.883Z"
   },
   {
    "duration": 25,
    "start_time": "2023-04-24T17:22:30.579Z"
   },
   {
    "duration": 57,
    "start_time": "2023-04-24T17:22:30.606Z"
   },
   {
    "duration": 13,
    "start_time": "2023-04-24T17:22:30.664Z"
   },
   {
    "duration": 1991,
    "start_time": "2023-04-24T17:22:30.679Z"
   },
   {
    "duration": 1973,
    "start_time": "2023-04-24T17:34:07.433Z"
   },
   {
    "duration": 525,
    "start_time": "2023-04-24T17:34:09.408Z"
   },
   {
    "duration": 2993,
    "start_time": "2023-04-24T17:34:09.934Z"
   },
   {
    "duration": 15,
    "start_time": "2023-04-24T17:34:12.929Z"
   },
   {
    "duration": 60,
    "start_time": "2023-04-24T17:34:12.945Z"
   },
   {
    "duration": 33,
    "start_time": "2023-04-24T17:34:13.007Z"
   },
   {
    "duration": 292,
    "start_time": "2023-04-24T17:34:13.041Z"
   },
   {
    "duration": 2794,
    "start_time": "2023-04-24T17:34:13.335Z"
   },
   {
    "duration": 36,
    "start_time": "2023-04-24T17:34:16.131Z"
   },
   {
    "duration": 33,
    "start_time": "2023-04-24T17:34:16.177Z"
   },
   {
    "duration": 15,
    "start_time": "2023-04-24T17:34:16.211Z"
   },
   {
    "duration": 1239,
    "start_time": "2023-04-24T17:34:16.228Z"
   },
   {
    "duration": 1880,
    "start_time": "2023-04-24T17:40:55.717Z"
   },
   {
    "duration": 478,
    "start_time": "2023-04-24T17:40:57.599Z"
   },
   {
    "duration": 2892,
    "start_time": "2023-04-24T17:40:58.079Z"
   },
   {
    "duration": 19,
    "start_time": "2023-04-24T17:41:00.975Z"
   },
   {
    "duration": 85,
    "start_time": "2023-04-24T17:41:00.995Z"
   },
   {
    "duration": 59,
    "start_time": "2023-04-24T17:41:01.082Z"
   },
   {
    "duration": 305,
    "start_time": "2023-04-24T17:41:01.142Z"
   },
   {
    "duration": 2798,
    "start_time": "2023-04-24T17:41:01.448Z"
   },
   {
    "duration": 44,
    "start_time": "2023-04-24T17:41:04.248Z"
   },
   {
    "duration": 28,
    "start_time": "2023-04-24T17:41:04.295Z"
   },
   {
    "duration": 5,
    "start_time": "2023-04-24T17:41:04.325Z"
   },
   {
    "duration": 1278,
    "start_time": "2023-04-24T17:41:04.331Z"
   },
   {
    "duration": 215,
    "start_time": "2023-04-24T17:41:05.610Z"
   },
   {
    "duration": 2,
    "start_time": "2023-04-24T17:42:54.505Z"
   },
   {
    "duration": 57,
    "start_time": "2023-04-24T17:43:00.276Z"
   },
   {
    "duration": 592,
    "start_time": "2023-04-24T17:43:53.321Z"
   },
   {
    "duration": 15,
    "start_time": "2023-04-24T17:44:34.026Z"
   },
   {
    "duration": 18,
    "start_time": "2023-04-24T17:44:50.877Z"
   },
   {
    "duration": 12,
    "start_time": "2023-04-24T17:45:05.620Z"
   },
   {
    "duration": 90,
    "start_time": "2023-04-24T17:45:11.515Z"
   },
   {
    "duration": 48,
    "start_time": "2023-04-24T17:45:28.282Z"
   },
   {
    "duration": 9,
    "start_time": "2023-04-24T17:45:40.143Z"
   },
   {
    "duration": 2,
    "start_time": "2023-04-24T17:48:40.909Z"
   },
   {
    "duration": 56,
    "start_time": "2023-04-24T17:48:44.084Z"
   },
   {
    "duration": 1605,
    "start_time": "2023-04-24T17:50:28.809Z"
   },
   {
    "duration": 1879,
    "start_time": "2023-04-24T18:54:46.335Z"
   },
   {
    "duration": 554,
    "start_time": "2023-04-24T18:54:48.217Z"
   },
   {
    "duration": 1558,
    "start_time": "2023-04-24T18:54:48.774Z"
   },
   {
    "duration": 33,
    "start_time": "2023-04-24T18:54:50.334Z"
   },
   {
    "duration": 30,
    "start_time": "2023-04-24T18:54:50.369Z"
   },
   {
    "duration": 21,
    "start_time": "2023-04-24T18:54:50.400Z"
   },
   {
    "duration": 271,
    "start_time": "2023-04-24T18:54:50.423Z"
   },
   {
    "duration": 2751,
    "start_time": "2023-04-24T18:54:50.696Z"
   },
   {
    "duration": 28,
    "start_time": "2023-04-24T18:54:53.463Z"
   },
   {
    "duration": 38,
    "start_time": "2023-04-24T18:54:53.493Z"
   },
   {
    "duration": 12,
    "start_time": "2023-04-24T18:54:53.533Z"
   },
   {
    "duration": 34,
    "start_time": "2023-04-24T18:54:53.547Z"
   },
   {
    "duration": 2004,
    "start_time": "2023-04-24T18:54:53.583Z"
   },
   {
    "duration": 204,
    "start_time": "2023-04-24T18:54:55.589Z"
   },
   {
    "duration": 11,
    "start_time": "2023-04-24T18:54:55.796Z"
   },
   {
    "duration": 16,
    "start_time": "2023-04-24T18:55:43.884Z"
   },
   {
    "duration": 419,
    "start_time": "2023-04-24T18:56:06.328Z"
   },
   {
    "duration": 1749,
    "start_time": "2023-04-24T18:57:15.136Z"
   },
   {
    "duration": 519,
    "start_time": "2023-04-24T18:57:16.887Z"
   },
   {
    "duration": 928,
    "start_time": "2023-04-24T18:57:17.408Z"
   },
   {
    "duration": 42,
    "start_time": "2023-04-24T18:57:18.338Z"
   },
   {
    "duration": 40,
    "start_time": "2023-04-24T18:57:18.382Z"
   },
   {
    "duration": 31,
    "start_time": "2023-04-24T18:57:18.424Z"
   },
   {
    "duration": 273,
    "start_time": "2023-04-24T18:57:18.464Z"
   },
   {
    "duration": 2804,
    "start_time": "2023-04-24T18:57:18.739Z"
   },
   {
    "duration": 34,
    "start_time": "2023-04-24T18:57:21.545Z"
   },
   {
    "duration": 33,
    "start_time": "2023-04-24T18:57:21.582Z"
   },
   {
    "duration": 5,
    "start_time": "2023-04-24T18:57:21.617Z"
   },
   {
    "duration": 50,
    "start_time": "2023-04-24T18:57:21.624Z"
   },
   {
    "duration": 2028,
    "start_time": "2023-04-24T18:57:21.676Z"
   },
   {
    "duration": 172,
    "start_time": "2023-04-24T18:57:23.706Z"
   },
   {
    "duration": 0,
    "start_time": "2023-04-24T18:57:23.880Z"
   },
   {
    "duration": 0,
    "start_time": "2023-04-24T18:57:23.881Z"
   },
   {
    "duration": 0,
    "start_time": "2023-04-24T18:57:23.882Z"
   },
   {
    "duration": 0,
    "start_time": "2023-04-24T18:57:23.883Z"
   },
   {
    "duration": 0,
    "start_time": "2023-04-24T18:57:23.884Z"
   },
   {
    "duration": 0,
    "start_time": "2023-04-24T18:57:23.885Z"
   },
   {
    "duration": 252,
    "start_time": "2023-04-24T18:58:56.467Z"
   },
   {
    "duration": 31,
    "start_time": "2023-04-24T18:58:57.271Z"
   },
   {
    "duration": 3,
    "start_time": "2023-04-24T18:59:24.039Z"
   },
   {
    "duration": 7025,
    "start_time": "2023-04-24T18:59:24.597Z"
   },
   {
    "duration": 12,
    "start_time": "2023-04-24T18:59:33.569Z"
   },
   {
    "duration": 4,
    "start_time": "2023-04-24T19:00:14.369Z"
   },
   {
    "duration": 6724,
    "start_time": "2023-04-24T19:00:15.398Z"
   },
   {
    "duration": 12,
    "start_time": "2023-04-24T19:00:22.124Z"
   },
   {
    "duration": 431,
    "start_time": "2023-04-24T19:01:36.120Z"
   },
   {
    "duration": 3,
    "start_time": "2023-04-24T19:01:51.901Z"
   },
   {
    "duration": 6526,
    "start_time": "2023-04-24T19:01:52.567Z"
   },
   {
    "duration": 2233,
    "start_time": "2023-04-24T19:01:59.094Z"
   },
   {
    "duration": 2205,
    "start_time": "2023-04-24T19:02:04.317Z"
   },
   {
    "duration": 14,
    "start_time": "2023-04-24T19:02:07.621Z"
   },
   {
    "duration": 1767,
    "start_time": "2023-04-24T19:06:41.866Z"
   },
   {
    "duration": 784,
    "start_time": "2023-04-24T19:06:43.635Z"
   },
   {
    "duration": 1362,
    "start_time": "2023-04-24T19:06:44.420Z"
   },
   {
    "duration": 17,
    "start_time": "2023-04-24T19:06:45.784Z"
   },
   {
    "duration": 43,
    "start_time": "2023-04-24T19:06:45.803Z"
   },
   {
    "duration": 64,
    "start_time": "2023-04-24T19:06:45.847Z"
   },
   {
    "duration": 298,
    "start_time": "2023-04-24T19:06:45.913Z"
   },
   {
    "duration": 2661,
    "start_time": "2023-04-24T19:06:46.213Z"
   },
   {
    "duration": 24,
    "start_time": "2023-04-24T19:06:48.876Z"
   },
   {
    "duration": 30,
    "start_time": "2023-04-24T19:06:48.901Z"
   },
   {
    "duration": 1920,
    "start_time": "2023-04-24T19:06:48.958Z"
   },
   {
    "duration": 6194,
    "start_time": "2023-04-24T19:06:58.026Z"
   },
   {
    "duration": 419,
    "start_time": "2023-04-24T19:07:13.787Z"
   },
   {
    "duration": 1945,
    "start_time": "2023-04-24T19:07:46.196Z"
   },
   {
    "duration": 198,
    "start_time": "2023-04-24T19:07:50.436Z"
   },
   {
    "duration": 993,
    "start_time": "2023-04-24T19:08:04.274Z"
   },
   {
    "duration": 157188,
    "start_time": "2023-04-24T19:08:22.947Z"
   },
   {
    "duration": 199,
    "start_time": "2023-04-24T19:11:34.994Z"
   },
   {
    "duration": 2812,
    "start_time": "2023-04-24T19:11:44.998Z"
   },
   {
    "duration": 13,
    "start_time": "2023-04-24T19:11:53.577Z"
   },
   {
    "duration": 25,
    "start_time": "2023-04-24T19:12:31.938Z"
   },
   {
    "duration": 17,
    "start_time": "2023-04-24T19:12:37.300Z"
   },
   {
    "duration": 12,
    "start_time": "2023-04-24T19:16:40.006Z"
   },
   {
    "duration": 1870,
    "start_time": "2023-04-24T19:17:11.556Z"
   },
   {
    "duration": 793,
    "start_time": "2023-04-24T19:17:13.428Z"
   },
   {
    "duration": 1421,
    "start_time": "2023-04-24T19:17:14.223Z"
   },
   {
    "duration": 24,
    "start_time": "2023-04-24T19:17:15.646Z"
   },
   {
    "duration": 32,
    "start_time": "2023-04-24T19:17:15.672Z"
   },
   {
    "duration": 22,
    "start_time": "2023-04-24T19:17:15.705Z"
   },
   {
    "duration": 284,
    "start_time": "2023-04-24T19:17:15.728Z"
   },
   {
    "duration": 2713,
    "start_time": "2023-04-24T19:17:16.014Z"
   },
   {
    "duration": 39,
    "start_time": "2023-04-24T19:17:18.729Z"
   },
   {
    "duration": 32,
    "start_time": "2023-04-24T19:17:18.770Z"
   },
   {
    "duration": 1928,
    "start_time": "2023-04-24T19:17:18.803Z"
   },
   {
    "duration": 52,
    "start_time": "2023-04-24T19:18:58.372Z"
   },
   {
    "duration": 2137,
    "start_time": "2023-04-24T19:19:29.281Z"
   },
   {
    "duration": 784,
    "start_time": "2023-04-24T19:19:31.420Z"
   },
   {
    "duration": 1255,
    "start_time": "2023-04-24T19:19:32.206Z"
   },
   {
    "duration": 17,
    "start_time": "2023-04-24T19:19:33.462Z"
   },
   {
    "duration": 26,
    "start_time": "2023-04-24T19:19:33.481Z"
   },
   {
    "duration": 21,
    "start_time": "2023-04-24T19:19:33.508Z"
   },
   {
    "duration": 265,
    "start_time": "2023-04-24T19:19:33.531Z"
   },
   {
    "duration": 2737,
    "start_time": "2023-04-24T19:19:33.799Z"
   },
   {
    "duration": 31,
    "start_time": "2023-04-24T19:19:36.538Z"
   },
   {
    "duration": 28,
    "start_time": "2023-04-24T19:19:36.571Z"
   },
   {
    "duration": 1998,
    "start_time": "2023-04-24T19:19:36.601Z"
   },
   {
    "duration": 6066,
    "start_time": "2023-04-24T19:19:38.600Z"
   },
   {
    "duration": 431,
    "start_time": "2023-04-24T19:19:44.669Z"
   },
   {
    "duration": 1953,
    "start_time": "2023-04-24T19:19:45.103Z"
   },
   {
    "duration": 181,
    "start_time": "2023-04-24T19:19:47.064Z"
   },
   {
    "duration": 873,
    "start_time": "2023-04-24T19:19:47.247Z"
   },
   {
    "duration": 151846,
    "start_time": "2023-04-24T19:19:48.122Z"
   },
   {
    "duration": 2841,
    "start_time": "2023-04-24T19:22:19.970Z"
   },
   {
    "duration": 16,
    "start_time": "2023-04-24T19:22:22.812Z"
   },
   {
    "duration": 1792,
    "start_time": "2023-04-24T19:34:43.187Z"
   },
   {
    "duration": 805,
    "start_time": "2023-04-24T19:34:44.981Z"
   },
   {
    "duration": 943,
    "start_time": "2023-04-24T19:34:45.788Z"
   },
   {
    "duration": 19,
    "start_time": "2023-04-24T19:34:46.733Z"
   },
   {
    "duration": 48,
    "start_time": "2023-04-24T19:34:46.755Z"
   },
   {
    "duration": 21,
    "start_time": "2023-04-24T19:34:46.804Z"
   },
   {
    "duration": 276,
    "start_time": "2023-04-24T19:34:46.827Z"
   },
   {
    "duration": 2885,
    "start_time": "2023-04-24T19:34:47.104Z"
   },
   {
    "duration": 24,
    "start_time": "2023-04-24T19:34:49.992Z"
   },
   {
    "duration": 2051,
    "start_time": "2023-04-24T19:34:50.018Z"
   },
   {
    "duration": 56,
    "start_time": "2023-04-24T19:34:52.071Z"
   },
   {
    "duration": 3,
    "start_time": "2023-04-24T19:34:52.128Z"
   },
   {
    "duration": 8,
    "start_time": "2023-04-24T19:34:52.132Z"
   },
   {
    "duration": 33,
    "start_time": "2023-04-24T19:34:52.142Z"
   },
   {
    "duration": 6503,
    "start_time": "2023-04-24T19:34:52.177Z"
   },
   {
    "duration": 412,
    "start_time": "2023-04-24T19:34:58.682Z"
   },
   {
    "duration": 2189,
    "start_time": "2023-04-24T19:34:59.096Z"
   },
   {
    "duration": 194,
    "start_time": "2023-04-24T19:35:01.287Z"
   },
   {
    "duration": 915,
    "start_time": "2023-04-24T19:35:01.482Z"
   },
   {
    "duration": 154371,
    "start_time": "2023-04-24T19:35:02.398Z"
   },
   {
    "duration": 3059,
    "start_time": "2023-04-24T19:37:36.774Z"
   },
   {
    "duration": 26,
    "start_time": "2023-04-24T19:37:39.835Z"
   },
   {
    "duration": 1773,
    "start_time": "2023-04-24T19:41:20.606Z"
   },
   {
    "duration": 847,
    "start_time": "2023-04-24T19:41:22.381Z"
   },
   {
    "duration": 948,
    "start_time": "2023-04-24T19:41:23.230Z"
   },
   {
    "duration": 16,
    "start_time": "2023-04-24T19:41:24.181Z"
   },
   {
    "duration": 26,
    "start_time": "2023-04-24T19:41:24.199Z"
   },
   {
    "duration": 38,
    "start_time": "2023-04-24T19:41:24.227Z"
   },
   {
    "duration": 289,
    "start_time": "2023-04-24T19:41:24.267Z"
   },
   {
    "duration": 2909,
    "start_time": "2023-04-24T19:41:24.558Z"
   },
   {
    "duration": 37,
    "start_time": "2023-04-24T19:41:27.471Z"
   },
   {
    "duration": 2101,
    "start_time": "2023-04-24T19:41:27.511Z"
   },
   {
    "duration": 7064,
    "start_time": "2023-04-24T19:41:29.614Z"
   },
   {
    "duration": 434,
    "start_time": "2023-04-24T19:41:36.680Z"
   },
   {
    "duration": 2030,
    "start_time": "2023-04-24T19:41:37.115Z"
   },
   {
    "duration": 185,
    "start_time": "2023-04-24T19:41:39.148Z"
   },
   {
    "duration": 937,
    "start_time": "2023-04-24T19:41:39.335Z"
   },
   {
    "duration": 40,
    "start_time": "2023-04-24T19:41:40.274Z"
   },
   {
    "duration": 2,
    "start_time": "2023-04-24T19:41:40.316Z"
   },
   {
    "duration": 6,
    "start_time": "2023-04-24T19:41:40.319Z"
   },
   {
    "duration": 8,
    "start_time": "2023-04-24T19:41:40.327Z"
   },
   {
    "duration": 7,
    "start_time": "2023-04-24T19:41:40.336Z"
   },
   {
    "duration": 17,
    "start_time": "2023-04-24T19:41:40.360Z"
   },
   {
    "duration": 22,
    "start_time": "2023-04-24T19:41:40.378Z"
   },
   {
    "duration": 18,
    "start_time": "2023-04-24T19:41:40.401Z"
   },
   {
    "duration": 7,
    "start_time": "2023-04-24T19:41:40.421Z"
   },
   {
    "duration": 160891,
    "start_time": "2023-04-24T19:41:40.430Z"
   },
   {
    "duration": 2891,
    "start_time": "2023-04-24T19:44:21.322Z"
   },
   {
    "duration": 17,
    "start_time": "2023-04-24T19:44:24.214Z"
   },
   {
    "duration": 3065,
    "start_time": "2023-04-24T19:49:49.272Z"
   },
   {
    "duration": 1897,
    "start_time": "2023-04-24T19:59:37.740Z"
   },
   {
    "duration": 782,
    "start_time": "2023-04-24T19:59:39.639Z"
   },
   {
    "duration": 1392,
    "start_time": "2023-04-24T19:59:40.422Z"
   },
   {
    "duration": 16,
    "start_time": "2023-04-24T19:59:41.816Z"
   },
   {
    "duration": 42,
    "start_time": "2023-04-24T19:59:41.833Z"
   },
   {
    "duration": 23,
    "start_time": "2023-04-24T19:59:41.877Z"
   },
   {
    "duration": 276,
    "start_time": "2023-04-24T19:59:41.902Z"
   },
   {
    "duration": 2898,
    "start_time": "2023-04-24T19:59:42.180Z"
   },
   {
    "duration": 29,
    "start_time": "2023-04-24T19:59:45.080Z"
   },
   {
    "duration": 2064,
    "start_time": "2023-04-24T19:59:45.111Z"
   },
   {
    "duration": 6511,
    "start_time": "2023-04-24T19:59:47.177Z"
   },
   {
    "duration": 437,
    "start_time": "2023-04-24T19:59:53.689Z"
   },
   {
    "duration": 2039,
    "start_time": "2023-04-24T19:59:54.128Z"
   },
   {
    "duration": 202,
    "start_time": "2023-04-24T19:59:56.168Z"
   },
   {
    "duration": 918,
    "start_time": "2023-04-24T19:59:56.376Z"
   },
   {
    "duration": 40,
    "start_time": "2023-04-24T19:59:57.297Z"
   },
   {
    "duration": 178769,
    "start_time": "2023-04-24T19:59:57.339Z"
   },
   {
    "duration": 3081,
    "start_time": "2023-04-24T20:02:56.109Z"
   },
   {
    "duration": 3142,
    "start_time": "2023-04-24T20:02:59.192Z"
   },
   {
    "duration": 39,
    "start_time": "2023-04-24T20:03:02.336Z"
   },
   {
    "duration": 3009,
    "start_time": "2023-04-24T20:06:13.373Z"
   },
   {
    "duration": 2832,
    "start_time": "2023-04-24T20:06:55.746Z"
   },
   {
    "duration": 3035,
    "start_time": "2023-04-24T20:08:36.902Z"
   },
   {
    "duration": 3011,
    "start_time": "2023-04-24T20:10:04.705Z"
   },
   {
    "duration": 16,
    "start_time": "2023-04-24T20:14:41.914Z"
   },
   {
    "duration": 34,
    "start_time": "2023-04-24T20:14:43.548Z"
   },
   {
    "duration": 1716,
    "start_time": "2023-04-24T20:15:20.078Z"
   },
   {
    "duration": 731,
    "start_time": "2023-04-24T20:15:21.796Z"
   },
   {
    "duration": 951,
    "start_time": "2023-04-24T20:15:22.529Z"
   },
   {
    "duration": 15,
    "start_time": "2023-04-24T20:15:23.482Z"
   },
   {
    "duration": 30,
    "start_time": "2023-04-24T20:15:23.499Z"
   },
   {
    "duration": 46,
    "start_time": "2023-04-24T20:15:23.530Z"
   },
   {
    "duration": 260,
    "start_time": "2023-04-24T20:15:23.578Z"
   },
   {
    "duration": 2838,
    "start_time": "2023-04-24T20:15:23.840Z"
   },
   {
    "duration": 24,
    "start_time": "2023-04-24T20:15:26.679Z"
   },
   {
    "duration": 2041,
    "start_time": "2023-04-24T20:15:26.705Z"
   },
   {
    "duration": 6666,
    "start_time": "2023-04-24T20:15:28.759Z"
   },
   {
    "duration": 612,
    "start_time": "2023-04-24T20:15:35.427Z"
   },
   {
    "duration": 0,
    "start_time": "2023-04-24T20:15:36.041Z"
   },
   {
    "duration": 0,
    "start_time": "2023-04-24T20:15:36.042Z"
   },
   {
    "duration": 0,
    "start_time": "2023-04-24T20:15:36.043Z"
   },
   {
    "duration": 0,
    "start_time": "2023-04-24T20:15:36.055Z"
   },
   {
    "duration": 0,
    "start_time": "2023-04-24T20:15:36.056Z"
   },
   {
    "duration": 0,
    "start_time": "2023-04-24T20:15:36.061Z"
   },
   {
    "duration": 0,
    "start_time": "2023-04-24T20:15:36.067Z"
   },
   {
    "duration": 1849,
    "start_time": "2023-04-24T20:31:36.761Z"
   },
   {
    "duration": 706,
    "start_time": "2023-04-24T20:31:38.612Z"
   },
   {
    "duration": 1426,
    "start_time": "2023-04-24T20:31:39.320Z"
   },
   {
    "duration": 18,
    "start_time": "2023-04-24T20:31:40.748Z"
   },
   {
    "duration": 35,
    "start_time": "2023-04-24T20:31:40.771Z"
   },
   {
    "duration": 23,
    "start_time": "2023-04-24T20:31:40.808Z"
   },
   {
    "duration": 281,
    "start_time": "2023-04-24T20:31:40.833Z"
   },
   {
    "duration": 2782,
    "start_time": "2023-04-24T20:31:41.115Z"
   },
   {
    "duration": 25,
    "start_time": "2023-04-24T20:31:43.899Z"
   },
   {
    "duration": 2168,
    "start_time": "2023-04-24T20:31:43.925Z"
   },
   {
    "duration": 6493,
    "start_time": "2023-04-24T20:31:46.095Z"
   },
   {
    "duration": 446,
    "start_time": "2023-04-24T20:31:52.590Z"
   },
   {
    "duration": 2004,
    "start_time": "2023-04-24T20:31:53.037Z"
   },
   {
    "duration": 183,
    "start_time": "2023-04-24T20:31:55.048Z"
   },
   {
    "duration": 948,
    "start_time": "2023-04-24T20:31:55.232Z"
   },
   {
    "duration": 39,
    "start_time": "2023-04-24T20:31:56.181Z"
   },
   {
    "duration": 163397,
    "start_time": "2023-04-24T20:31:56.221Z"
   },
   {
    "duration": 223,
    "start_time": "2023-04-24T20:34:39.620Z"
   },
   {
    "duration": 0,
    "start_time": "2023-04-24T20:34:39.849Z"
   },
   {
    "duration": 10,
    "start_time": "2023-04-24T20:36:42.615Z"
   },
   {
    "duration": 34,
    "start_time": "2023-04-24T20:37:20.336Z"
   },
   {
    "duration": 18,
    "start_time": "2023-04-24T20:37:23.379Z"
   },
   {
    "duration": 44,
    "start_time": "2023-04-24T20:44:11.440Z"
   },
   {
    "duration": 16,
    "start_time": "2023-04-24T20:45:04.978Z"
   },
   {
    "duration": 45220,
    "start_time": "2023-04-24T20:46:33.466Z"
   },
   {
    "duration": 17,
    "start_time": "2023-04-24T20:52:49.318Z"
   },
   {
    "duration": 11,
    "start_time": "2023-04-24T20:52:54.002Z"
   },
   {
    "duration": 2021,
    "start_time": "2023-04-24T20:53:17.384Z"
   },
   {
    "duration": 800,
    "start_time": "2023-04-24T20:53:19.407Z"
   },
   {
    "duration": 1087,
    "start_time": "2023-04-24T20:53:20.209Z"
   },
   {
    "duration": 17,
    "start_time": "2023-04-24T20:53:21.298Z"
   },
   {
    "duration": 41,
    "start_time": "2023-04-24T20:53:21.317Z"
   },
   {
    "duration": 44,
    "start_time": "2023-04-24T20:53:21.367Z"
   },
   {
    "duration": 287,
    "start_time": "2023-04-24T20:53:21.413Z"
   },
   {
    "duration": 2,
    "start_time": "2023-04-24T20:53:21.702Z"
   },
   {
    "duration": 79,
    "start_time": "2023-04-24T20:53:21.705Z"
   },
   {
    "duration": 2200,
    "start_time": "2023-04-24T20:53:21.787Z"
   },
   {
    "duration": 7315,
    "start_time": "2023-04-24T20:53:23.989Z"
   },
   {
    "duration": 482,
    "start_time": "2023-04-24T20:53:31.306Z"
   },
   {
    "duration": 3780,
    "start_time": "2023-04-24T20:53:31.790Z"
   },
   {
    "duration": 332,
    "start_time": "2023-04-24T20:53:35.582Z"
   },
   {
    "duration": 1272,
    "start_time": "2023-04-24T20:53:35.916Z"
   },
   {
    "duration": 44,
    "start_time": "2023-04-24T20:53:37.189Z"
   },
   {
    "duration": 166320,
    "start_time": "2023-04-24T20:53:37.235Z"
   },
   {
    "duration": 49302,
    "start_time": "2023-04-24T20:56:23.564Z"
   },
   {
    "duration": 18,
    "start_time": "2023-04-24T20:57:12.875Z"
   },
   {
    "duration": 11,
    "start_time": "2023-04-24T20:57:12.895Z"
   },
   {
    "duration": 16,
    "start_time": "2023-04-24T20:57:47.574Z"
   },
   {
    "duration": 17,
    "start_time": "2023-04-24T20:58:19.373Z"
   },
   {
    "duration": 18,
    "start_time": "2023-04-24T20:58:25.882Z"
   },
   {
    "duration": 10,
    "start_time": "2023-04-24T20:59:32.615Z"
   },
   {
    "duration": 51,
    "start_time": "2023-04-25T04:31:50.680Z"
   },
   {
    "duration": 1686,
    "start_time": "2023-04-25T04:32:01.533Z"
   },
   {
    "duration": 794,
    "start_time": "2023-04-25T04:32:03.221Z"
   },
   {
    "duration": 1170,
    "start_time": "2023-04-25T04:32:04.017Z"
   },
   {
    "duration": 16,
    "start_time": "2023-04-25T04:32:05.189Z"
   },
   {
    "duration": 27,
    "start_time": "2023-04-25T04:32:05.206Z"
   },
   {
    "duration": 45,
    "start_time": "2023-04-25T04:32:05.234Z"
   },
   {
    "duration": 252,
    "start_time": "2023-04-25T04:32:05.280Z"
   },
   {
    "duration": 2,
    "start_time": "2023-04-25T04:32:05.533Z"
   },
   {
    "duration": 43,
    "start_time": "2023-04-25T04:32:05.537Z"
   },
   {
    "duration": 2113,
    "start_time": "2023-04-25T04:32:05.582Z"
   },
   {
    "duration": 6178,
    "start_time": "2023-04-25T04:32:07.696Z"
   },
   {
    "duration": 447,
    "start_time": "2023-04-25T04:32:13.876Z"
   },
   {
    "duration": 2017,
    "start_time": "2023-04-25T04:32:14.324Z"
   },
   {
    "duration": 197,
    "start_time": "2023-04-25T04:32:16.342Z"
   },
   {
    "duration": 853,
    "start_time": "2023-04-25T04:32:16.557Z"
   },
   {
    "duration": 49,
    "start_time": "2023-04-25T04:32:17.412Z"
   },
   {
    "duration": 147223,
    "start_time": "2023-04-25T04:32:17.462Z"
   },
   {
    "duration": 43284,
    "start_time": "2023-04-25T04:34:44.687Z"
   },
   {
    "duration": 95,
    "start_time": "2023-04-25T04:35:27.972Z"
   },
   {
    "duration": 9,
    "start_time": "2023-04-25T04:35:28.068Z"
   },
   {
    "duration": 9,
    "start_time": "2023-04-25T04:35:28.078Z"
   },
   {
    "duration": 376924,
    "start_time": "2023-04-25T04:40:39.670Z"
   },
   {
    "duration": 781144,
    "start_time": "2023-04-25T04:50:50.006Z"
   },
   {
    "duration": 2194,
    "start_time": "2023-04-25T05:05:24.929Z"
   },
   {
    "duration": 15,
    "start_time": "2023-04-25T05:06:20.401Z"
   },
   {
    "duration": 1579,
    "start_time": "2023-04-25T05:06:56.944Z"
   },
   {
    "duration": 749,
    "start_time": "2023-04-25T05:06:58.525Z"
   },
   {
    "duration": 1107,
    "start_time": "2023-04-25T05:06:59.275Z"
   },
   {
    "duration": 16,
    "start_time": "2023-04-25T05:07:00.384Z"
   },
   {
    "duration": 86,
    "start_time": "2023-04-25T05:07:00.402Z"
   },
   {
    "duration": 56,
    "start_time": "2023-04-25T05:07:00.489Z"
   },
   {
    "duration": 279,
    "start_time": "2023-04-25T05:07:00.546Z"
   },
   {
    "duration": 2,
    "start_time": "2023-04-25T05:07:00.827Z"
   },
   {
    "duration": 46,
    "start_time": "2023-04-25T05:07:00.830Z"
   },
   {
    "duration": 2036,
    "start_time": "2023-04-25T05:07:00.879Z"
   },
   {
    "duration": 6058,
    "start_time": "2023-04-25T05:07:02.917Z"
   },
   {
    "duration": 435,
    "start_time": "2023-04-25T05:07:08.977Z"
   },
   {
    "duration": 1969,
    "start_time": "2023-04-25T05:07:09.413Z"
   },
   {
    "duration": 191,
    "start_time": "2023-04-25T05:07:11.384Z"
   },
   {
    "duration": 871,
    "start_time": "2023-04-25T05:07:11.576Z"
   },
   {
    "duration": 40,
    "start_time": "2023-04-25T05:07:12.449Z"
   },
   {
    "duration": 1611,
    "start_time": "2023-04-25T05:20:28.502Z"
   },
   {
    "duration": 800,
    "start_time": "2023-04-25T05:20:30.116Z"
   },
   {
    "duration": 947,
    "start_time": "2023-04-25T05:20:30.918Z"
   },
   {
    "duration": 16,
    "start_time": "2023-04-25T05:20:31.866Z"
   },
   {
    "duration": 48,
    "start_time": "2023-04-25T05:20:31.884Z"
   },
   {
    "duration": 40,
    "start_time": "2023-04-25T05:20:31.933Z"
   },
   {
    "duration": 257,
    "start_time": "2023-04-25T05:20:31.974Z"
   },
   {
    "duration": 2,
    "start_time": "2023-04-25T05:20:32.233Z"
   },
   {
    "duration": 36,
    "start_time": "2023-04-25T05:20:32.236Z"
   },
   {
    "duration": 2078,
    "start_time": "2023-04-25T05:20:32.274Z"
   },
   {
    "duration": 5939,
    "start_time": "2023-04-25T05:20:34.354Z"
   },
   {
    "duration": 427,
    "start_time": "2023-04-25T05:20:40.294Z"
   },
   {
    "duration": 1839,
    "start_time": "2023-04-25T05:20:40.722Z"
   },
   {
    "duration": 188,
    "start_time": "2023-04-25T05:20:42.563Z"
   },
   {
    "duration": 842,
    "start_time": "2023-04-25T05:20:42.752Z"
   },
   {
    "duration": 39,
    "start_time": "2023-04-25T05:20:43.596Z"
   },
   {
    "duration": 147709,
    "start_time": "2023-04-25T05:20:43.636Z"
   },
   {
    "duration": 38915,
    "start_time": "2023-04-25T05:23:11.346Z"
   },
   {
    "duration": 101,
    "start_time": "2023-04-25T05:23:50.263Z"
   },
   {
    "duration": 83,
    "start_time": "2023-04-25T05:23:50.366Z"
   },
   {
    "duration": 1536,
    "start_time": "2023-04-25T05:25:41.955Z"
   },
   {
    "duration": 693,
    "start_time": "2023-04-25T05:25:43.494Z"
   },
   {
    "duration": 1074,
    "start_time": "2023-04-25T05:25:44.189Z"
   },
   {
    "duration": 16,
    "start_time": "2023-04-25T05:25:45.264Z"
   },
   {
    "duration": 29,
    "start_time": "2023-04-25T05:25:45.282Z"
   },
   {
    "duration": 30,
    "start_time": "2023-04-25T05:25:45.312Z"
   },
   {
    "duration": 246,
    "start_time": "2023-04-25T05:25:45.344Z"
   },
   {
    "duration": 25,
    "start_time": "2023-04-25T05:25:45.592Z"
   },
   {
    "duration": 2034,
    "start_time": "2023-04-25T05:25:45.618Z"
   },
   {
    "duration": 6033,
    "start_time": "2023-04-25T05:25:47.654Z"
   },
   {
    "duration": 414,
    "start_time": "2023-04-25T05:25:53.689Z"
   },
   {
    "duration": 1816,
    "start_time": "2023-04-25T05:25:54.105Z"
   },
   {
    "duration": 189,
    "start_time": "2023-04-25T05:25:55.923Z"
   },
   {
    "duration": 827,
    "start_time": "2023-04-25T05:25:56.114Z"
   },
   {
    "duration": 42,
    "start_time": "2023-04-25T05:25:56.943Z"
   },
   {
    "duration": 146497,
    "start_time": "2023-04-25T05:25:56.986Z"
   },
   {
    "duration": 16,
    "start_time": "2023-04-25T05:28:23.485Z"
   },
   {
    "duration": 10,
    "start_time": "2023-04-25T05:28:23.502Z"
   },
   {
    "duration": 1484,
    "start_time": "2023-04-26T16:34:06.048Z"
   },
   {
    "duration": 733,
    "start_time": "2023-04-26T16:34:07.534Z"
   },
   {
    "duration": 1104,
    "start_time": "2023-04-26T16:34:08.268Z"
   },
   {
    "duration": 16,
    "start_time": "2023-04-26T16:34:09.373Z"
   },
   {
    "duration": 30,
    "start_time": "2023-04-26T16:34:09.390Z"
   },
   {
    "duration": 31,
    "start_time": "2023-04-26T16:34:09.421Z"
   },
   {
    "duration": 227,
    "start_time": "2023-04-26T16:34:09.453Z"
   },
   {
    "duration": 152,
    "start_time": "2023-04-26T16:34:09.681Z"
   },
   {
    "duration": 0,
    "start_time": "2023-04-26T16:34:09.835Z"
   },
   {
    "duration": 0,
    "start_time": "2023-04-26T16:34:09.836Z"
   },
   {
    "duration": 0,
    "start_time": "2023-04-26T16:34:09.837Z"
   },
   {
    "duration": 0,
    "start_time": "2023-04-26T16:34:09.838Z"
   },
   {
    "duration": 0,
    "start_time": "2023-04-26T16:34:09.839Z"
   },
   {
    "duration": 0,
    "start_time": "2023-04-26T16:34:09.839Z"
   },
   {
    "duration": 0,
    "start_time": "2023-04-26T16:34:09.841Z"
   },
   {
    "duration": 0,
    "start_time": "2023-04-26T16:34:09.841Z"
   },
   {
    "duration": 0,
    "start_time": "2023-04-26T16:34:09.843Z"
   },
   {
    "duration": 0,
    "start_time": "2023-04-26T16:34:09.843Z"
   },
   {
    "duration": 0,
    "start_time": "2023-04-26T16:34:09.844Z"
   },
   {
    "duration": 0,
    "start_time": "2023-04-26T16:34:09.845Z"
   },
   {
    "duration": 0,
    "start_time": "2023-04-26T16:34:09.846Z"
   },
   {
    "duration": 0,
    "start_time": "2023-04-26T16:34:09.847Z"
   },
   {
    "duration": 2450,
    "start_time": "2023-04-26T16:36:19.279Z"
   },
   {
    "duration": 1543,
    "start_time": "2023-04-26T16:36:30.812Z"
   },
   {
    "duration": 727,
    "start_time": "2023-04-26T16:36:32.357Z"
   },
   {
    "duration": 779,
    "start_time": "2023-04-26T16:36:33.085Z"
   },
   {
    "duration": 16,
    "start_time": "2023-04-26T16:36:33.865Z"
   },
   {
    "duration": 64,
    "start_time": "2023-04-26T16:36:33.884Z"
   },
   {
    "duration": 25,
    "start_time": "2023-04-26T16:36:33.949Z"
   },
   {
    "duration": 240,
    "start_time": "2023-04-26T16:36:33.975Z"
   },
   {
    "duration": 2297,
    "start_time": "2023-04-26T16:36:34.216Z"
   },
   {
    "duration": 200,
    "start_time": "2023-04-26T16:36:36.514Z"
   },
   {
    "duration": 0,
    "start_time": "2023-04-26T16:36:36.716Z"
   },
   {
    "duration": 0,
    "start_time": "2023-04-26T16:36:36.718Z"
   },
   {
    "duration": 0,
    "start_time": "2023-04-26T16:36:36.719Z"
   },
   {
    "duration": 0,
    "start_time": "2023-04-26T16:36:36.720Z"
   },
   {
    "duration": 0,
    "start_time": "2023-04-26T16:36:36.722Z"
   },
   {
    "duration": 0,
    "start_time": "2023-04-26T16:36:36.733Z"
   },
   {
    "duration": 0,
    "start_time": "2023-04-26T16:36:36.734Z"
   },
   {
    "duration": 0,
    "start_time": "2023-04-26T16:36:36.736Z"
   },
   {
    "duration": 0,
    "start_time": "2023-04-26T16:36:36.737Z"
   },
   {
    "duration": 0,
    "start_time": "2023-04-26T16:36:36.738Z"
   },
   {
    "duration": 0,
    "start_time": "2023-04-26T16:36:36.739Z"
   },
   {
    "duration": 0,
    "start_time": "2023-04-26T16:36:36.740Z"
   },
   {
    "duration": 0,
    "start_time": "2023-04-26T16:36:36.742Z"
   },
   {
    "duration": 33,
    "start_time": "2023-04-26T16:39:21.799Z"
   },
   {
    "duration": 2021,
    "start_time": "2023-04-26T16:39:23.375Z"
   },
   {
    "duration": 1876,
    "start_time": "2023-04-26T16:44:32.751Z"
   },
   {
    "duration": 14,
    "start_time": "2023-04-26T16:44:34.629Z"
   },
   {
    "duration": 5793,
    "start_time": "2023-04-26T16:45:01.742Z"
   },
   {
    "duration": 5,
    "start_time": "2023-04-26T16:45:07.537Z"
   },
   {
    "duration": 1414,
    "start_time": "2023-04-26T16:45:07.543Z"
   },
   {
    "duration": 196,
    "start_time": "2023-04-26T16:45:08.959Z"
   },
   {
    "duration": 837,
    "start_time": "2023-04-26T16:45:09.156Z"
   },
   {
    "duration": 47,
    "start_time": "2023-04-26T16:45:09.995Z"
   },
   {
    "duration": 250960,
    "start_time": "2023-04-26T16:45:10.044Z"
   },
   {
    "duration": 16,
    "start_time": "2023-04-26T16:49:21.006Z"
   },
   {
    "duration": 16,
    "start_time": "2023-04-26T16:49:21.024Z"
   },
   {
    "duration": 144,
    "start_time": "2023-04-26T16:49:21.042Z"
   },
   {
    "duration": 1859,
    "start_time": "2023-04-26T18:27:28.258Z"
   },
   {
    "duration": 824,
    "start_time": "2023-04-26T18:27:30.119Z"
   },
   {
    "duration": 841,
    "start_time": "2023-04-26T18:27:30.945Z"
   },
   {
    "duration": 19,
    "start_time": "2023-04-26T18:27:31.787Z"
   },
   {
    "duration": 49,
    "start_time": "2023-04-26T18:27:31.809Z"
   },
   {
    "duration": 39,
    "start_time": "2023-04-26T18:27:31.859Z"
   },
   {
    "duration": 253,
    "start_time": "2023-04-26T18:27:31.899Z"
   },
   {
    "duration": 2358,
    "start_time": "2023-04-26T18:27:32.154Z"
   },
   {
    "duration": 39,
    "start_time": "2023-04-26T18:27:34.513Z"
   },
   {
    "duration": 2316,
    "start_time": "2023-04-26T18:27:34.554Z"
   },
   {
    "duration": 1603,
    "start_time": "2023-04-26T18:27:36.873Z"
   },
   {
    "duration": 164,
    "start_time": "2023-04-26T18:27:38.478Z"
   },
   {
    "duration": 0,
    "start_time": "2023-04-26T18:27:38.644Z"
   },
   {
    "duration": 0,
    "start_time": "2023-04-26T18:27:38.645Z"
   },
   {
    "duration": 0,
    "start_time": "2023-04-26T18:27:38.647Z"
   },
   {
    "duration": 0,
    "start_time": "2023-04-26T18:27:38.648Z"
   },
   {
    "duration": 0,
    "start_time": "2023-04-26T18:27:38.649Z"
   },
   {
    "duration": 0,
    "start_time": "2023-04-26T18:27:38.650Z"
   },
   {
    "duration": 0,
    "start_time": "2023-04-26T18:27:38.651Z"
   },
   {
    "duration": 0,
    "start_time": "2023-04-26T18:27:38.652Z"
   },
   {
    "duration": 0,
    "start_time": "2023-04-26T18:27:38.654Z"
   },
   {
    "duration": 0,
    "start_time": "2023-04-26T18:27:38.654Z"
   },
   {
    "duration": 0,
    "start_time": "2023-04-26T18:27:38.655Z"
   },
   {
    "duration": 5977,
    "start_time": "2023-04-26T18:44:10.166Z"
   },
   {
    "duration": 5,
    "start_time": "2023-04-26T18:44:16.145Z"
   },
   {
    "duration": 1431,
    "start_time": "2023-04-26T18:44:16.152Z"
   },
   {
    "duration": 200,
    "start_time": "2023-04-26T18:44:17.585Z"
   },
   {
    "duration": 935,
    "start_time": "2023-04-26T18:44:17.787Z"
   },
   {
    "duration": 45,
    "start_time": "2023-04-26T18:44:18.724Z"
   },
   {
    "duration": 262097,
    "start_time": "2023-04-26T18:44:18.771Z"
   },
   {
    "duration": 20,
    "start_time": "2023-04-26T18:48:40.869Z"
   },
   {
    "duration": 12,
    "start_time": "2023-04-26T18:48:40.891Z"
   },
   {
    "duration": 389,
    "start_time": "2023-04-26T19:26:43.483Z"
   },
   {
    "duration": 712,
    "start_time": "2023-04-26T19:26:43.874Z"
   },
   {
    "duration": 985,
    "start_time": "2023-04-26T19:26:44.588Z"
   },
   {
    "duration": 18,
    "start_time": "2023-04-26T19:26:45.575Z"
   },
   {
    "duration": 48,
    "start_time": "2023-04-26T19:26:45.595Z"
   },
   {
    "duration": 34,
    "start_time": "2023-04-26T19:26:45.646Z"
   },
   {
    "duration": 271,
    "start_time": "2023-04-26T19:26:45.682Z"
   },
   {
    "duration": 448,
    "start_time": "2023-04-26T19:26:45.955Z"
   },
   {
    "duration": 0,
    "start_time": "2023-04-26T19:26:46.405Z"
   },
   {
    "duration": 0,
    "start_time": "2023-04-26T19:26:46.406Z"
   },
   {
    "duration": 0,
    "start_time": "2023-04-26T19:26:46.407Z"
   },
   {
    "duration": 0,
    "start_time": "2023-04-26T19:26:46.408Z"
   },
   {
    "duration": 0,
    "start_time": "2023-04-26T19:26:46.409Z"
   },
   {
    "duration": 0,
    "start_time": "2023-04-26T19:26:46.410Z"
   },
   {
    "duration": 0,
    "start_time": "2023-04-26T19:26:46.411Z"
   },
   {
    "duration": 0,
    "start_time": "2023-04-26T19:26:46.412Z"
   },
   {
    "duration": 0,
    "start_time": "2023-04-26T19:26:46.413Z"
   },
   {
    "duration": 0,
    "start_time": "2023-04-26T19:26:46.414Z"
   },
   {
    "duration": 0,
    "start_time": "2023-04-26T19:26:46.415Z"
   },
   {
    "duration": 0,
    "start_time": "2023-04-26T19:26:46.415Z"
   },
   {
    "duration": 2,
    "start_time": "2023-04-26T19:28:54.902Z"
   },
   {
    "duration": 2248,
    "start_time": "2023-04-26T19:28:59.016Z"
   },
   {
    "duration": 373,
    "start_time": "2023-04-26T19:29:10.063Z"
   },
   {
    "duration": 625,
    "start_time": "2023-04-26T19:29:10.438Z"
   },
   {
    "duration": 827,
    "start_time": "2023-04-26T19:29:11.065Z"
   },
   {
    "duration": 16,
    "start_time": "2023-04-26T19:29:11.894Z"
   },
   {
    "duration": 40,
    "start_time": "2023-04-26T19:29:11.912Z"
   },
   {
    "duration": 26,
    "start_time": "2023-04-26T19:29:11.953Z"
   },
   {
    "duration": 245,
    "start_time": "2023-04-26T19:29:11.980Z"
   },
   {
    "duration": 2409,
    "start_time": "2023-04-26T19:29:12.227Z"
   },
   {
    "duration": 30,
    "start_time": "2023-04-26T19:29:14.637Z"
   },
   {
    "duration": 1547,
    "start_time": "2023-04-26T19:29:14.668Z"
   },
   {
    "duration": 0,
    "start_time": "2023-04-26T19:29:16.217Z"
   },
   {
    "duration": 0,
    "start_time": "2023-04-26T19:29:16.218Z"
   },
   {
    "duration": 0,
    "start_time": "2023-04-26T19:29:16.233Z"
   },
   {
    "duration": 0,
    "start_time": "2023-04-26T19:29:16.234Z"
   },
   {
    "duration": 0,
    "start_time": "2023-04-26T19:29:16.235Z"
   },
   {
    "duration": 0,
    "start_time": "2023-04-26T19:29:16.236Z"
   },
   {
    "duration": 0,
    "start_time": "2023-04-26T19:29:16.237Z"
   },
   {
    "duration": 0,
    "start_time": "2023-04-26T19:29:16.238Z"
   },
   {
    "duration": 0,
    "start_time": "2023-04-26T19:29:16.239Z"
   },
   {
    "duration": 0,
    "start_time": "2023-04-26T19:29:16.241Z"
   },
   {
    "duration": 5,
    "start_time": "2023-04-26T19:29:45.716Z"
   },
   {
    "duration": 425,
    "start_time": "2023-04-26T19:30:05.601Z"
   },
   {
    "duration": 651,
    "start_time": "2023-04-26T19:30:06.029Z"
   },
   {
    "duration": 1288,
    "start_time": "2023-04-26T19:30:06.682Z"
   },
   {
    "duration": 16,
    "start_time": "2023-04-26T19:30:07.972Z"
   },
   {
    "duration": 45,
    "start_time": "2023-04-26T19:30:07.991Z"
   },
   {
    "duration": 36,
    "start_time": "2023-04-26T19:30:08.038Z"
   },
   {
    "duration": 257,
    "start_time": "2023-04-26T19:30:08.076Z"
   },
   {
    "duration": 2395,
    "start_time": "2023-04-26T19:30:08.335Z"
   },
   {
    "duration": 33,
    "start_time": "2023-04-26T19:30:10.731Z"
   },
   {
    "duration": 2266,
    "start_time": "2023-04-26T19:30:10.766Z"
   },
   {
    "duration": 100,
    "start_time": "2023-04-26T19:30:13.034Z"
   },
   {
    "duration": 0,
    "start_time": "2023-04-26T19:30:13.137Z"
   },
   {
    "duration": 0,
    "start_time": "2023-04-26T19:30:13.139Z"
   },
   {
    "duration": 0,
    "start_time": "2023-04-26T19:30:13.141Z"
   },
   {
    "duration": 0,
    "start_time": "2023-04-26T19:30:13.142Z"
   },
   {
    "duration": 0,
    "start_time": "2023-04-26T19:30:13.143Z"
   },
   {
    "duration": 0,
    "start_time": "2023-04-26T19:30:13.145Z"
   },
   {
    "duration": 0,
    "start_time": "2023-04-26T19:30:13.146Z"
   },
   {
    "duration": 0,
    "start_time": "2023-04-26T19:30:13.148Z"
   },
   {
    "duration": 0,
    "start_time": "2023-04-26T19:30:13.149Z"
   },
   {
    "duration": 226,
    "start_time": "2023-04-26T19:30:50.990Z"
   },
   {
    "duration": 26,
    "start_time": "2023-04-26T19:31:04.349Z"
   },
   {
    "duration": 4,
    "start_time": "2023-04-26T19:31:20.773Z"
   },
   {
    "duration": 5905,
    "start_time": "2023-04-26T19:31:28.389Z"
   },
   {
    "duration": 780,
    "start_time": "2023-04-26T19:31:37.941Z"
   },
   {
    "duration": 1320,
    "start_time": "2023-04-26T19:31:39.551Z"
   },
   {
    "duration": 6,
    "start_time": "2023-04-26T19:31:41.456Z"
   },
   {
    "duration": 597,
    "start_time": "2023-04-26T19:31:42.262Z"
   },
   {
    "duration": 56,
    "start_time": "2023-04-26T19:31:43.408Z"
   },
   {
    "duration": 264153,
    "start_time": "2023-04-26T19:31:47.086Z"
   },
   {
    "duration": 18,
    "start_time": "2023-04-26T19:36:11.241Z"
   },
   {
    "duration": 10,
    "start_time": "2023-04-26T19:36:11.261Z"
   },
   {
    "duration": 189,
    "start_time": "2023-04-26T19:36:11.274Z"
   },
   {
    "duration": 32,
    "start_time": "2023-04-26T19:37:58.983Z"
   },
   {
    "duration": 90,
    "start_time": "2023-04-26T19:38:05.086Z"
   },
   {
    "duration": 37,
    "start_time": "2023-04-26T19:38:33.537Z"
   },
   {
    "duration": 414,
    "start_time": "2023-04-26T19:57:12.525Z"
   },
   {
    "duration": 846,
    "start_time": "2023-04-26T19:57:12.941Z"
   },
   {
    "duration": 851,
    "start_time": "2023-04-26T19:57:13.788Z"
   },
   {
    "duration": 19,
    "start_time": "2023-04-26T19:57:14.641Z"
   },
   {
    "duration": 27,
    "start_time": "2023-04-26T19:57:14.662Z"
   },
   {
    "duration": 43,
    "start_time": "2023-04-26T19:57:14.691Z"
   },
   {
    "duration": 249,
    "start_time": "2023-04-26T19:57:14.735Z"
   },
   {
    "duration": 2304,
    "start_time": "2023-04-26T19:57:14.985Z"
   },
   {
    "duration": 0,
    "start_time": "2023-04-26T19:57:17.291Z"
   },
   {
    "duration": 0,
    "start_time": "2023-04-26T19:57:17.292Z"
   },
   {
    "duration": 0,
    "start_time": "2023-04-26T19:57:17.294Z"
   },
   {
    "duration": 0,
    "start_time": "2023-04-26T19:57:17.295Z"
   },
   {
    "duration": 0,
    "start_time": "2023-04-26T19:57:17.296Z"
   },
   {
    "duration": 0,
    "start_time": "2023-04-26T19:57:17.297Z"
   },
   {
    "duration": 0,
    "start_time": "2023-04-26T19:57:17.298Z"
   },
   {
    "duration": 0,
    "start_time": "2023-04-26T19:57:17.376Z"
   },
   {
    "duration": 0,
    "start_time": "2023-04-26T19:57:17.377Z"
   },
   {
    "duration": 0,
    "start_time": "2023-04-26T19:57:17.378Z"
   },
   {
    "duration": 0,
    "start_time": "2023-04-26T19:57:17.379Z"
   },
   {
    "duration": 0,
    "start_time": "2023-04-26T19:57:17.380Z"
   },
   {
    "duration": 0,
    "start_time": "2023-04-26T19:57:17.381Z"
   },
   {
    "duration": 0,
    "start_time": "2023-04-26T19:57:17.382Z"
   },
   {
    "duration": 966,
    "start_time": "2023-04-26T19:59:11.543Z"
   },
   {
    "duration": 117,
    "start_time": "2023-04-26T20:04:09.301Z"
   },
   {
    "duration": 5,
    "start_time": "2023-04-26T20:08:48.755Z"
   },
   {
    "duration": 122,
    "start_time": "2023-04-26T20:09:20.635Z"
   },
   {
    "duration": 217,
    "start_time": "2023-04-26T20:10:05.147Z"
   },
   {
    "duration": 15,
    "start_time": "2023-04-26T20:11:22.190Z"
   },
   {
    "duration": 115,
    "start_time": "2023-04-26T20:11:57.955Z"
   },
   {
    "duration": 676,
    "start_time": "2023-04-26T20:17:50.298Z"
   },
   {
    "duration": 926,
    "start_time": "2023-04-26T20:17:50.976Z"
   },
   {
    "duration": 963,
    "start_time": "2023-04-26T20:17:51.904Z"
   },
   {
    "duration": 15,
    "start_time": "2023-04-26T20:17:52.869Z"
   },
   {
    "duration": 49,
    "start_time": "2023-04-26T20:17:52.886Z"
   },
   {
    "duration": 30,
    "start_time": "2023-04-26T20:17:52.937Z"
   },
   {
    "duration": 269,
    "start_time": "2023-04-26T20:17:52.969Z"
   },
   {
    "duration": 47,
    "start_time": "2023-04-26T20:17:53.239Z"
   },
   {
    "duration": 0,
    "start_time": "2023-04-26T20:17:53.289Z"
   },
   {
    "duration": 0,
    "start_time": "2023-04-26T20:17:53.290Z"
   },
   {
    "duration": 0,
    "start_time": "2023-04-26T20:17:53.291Z"
   },
   {
    "duration": 0,
    "start_time": "2023-04-26T20:17:53.291Z"
   },
   {
    "duration": 0,
    "start_time": "2023-04-26T20:17:53.293Z"
   },
   {
    "duration": 0,
    "start_time": "2023-04-26T20:17:53.294Z"
   },
   {
    "duration": 0,
    "start_time": "2023-04-26T20:17:53.295Z"
   },
   {
    "duration": 0,
    "start_time": "2023-04-26T20:17:53.296Z"
   },
   {
    "duration": 0,
    "start_time": "2023-04-26T20:17:53.298Z"
   },
   {
    "duration": 0,
    "start_time": "2023-04-26T20:17:53.299Z"
   },
   {
    "duration": 0,
    "start_time": "2023-04-26T20:17:53.300Z"
   },
   {
    "duration": 0,
    "start_time": "2023-04-26T20:17:53.301Z"
   },
   {
    "duration": 0,
    "start_time": "2023-04-26T20:17:53.302Z"
   },
   {
    "duration": 0,
    "start_time": "2023-04-26T20:17:53.303Z"
   },
   {
    "duration": 0,
    "start_time": "2023-04-26T20:17:53.304Z"
   },
   {
    "duration": 580,
    "start_time": "2023-04-26T20:26:24.773Z"
   },
   {
    "duration": 813,
    "start_time": "2023-04-26T20:26:25.355Z"
   },
   {
    "duration": 899,
    "start_time": "2023-04-26T20:26:26.169Z"
   },
   {
    "duration": 13,
    "start_time": "2023-04-26T20:26:27.070Z"
   },
   {
    "duration": 30,
    "start_time": "2023-04-26T20:26:27.085Z"
   },
   {
    "duration": 50,
    "start_time": "2023-04-26T20:26:27.117Z"
   },
   {
    "duration": 225,
    "start_time": "2023-04-26T20:26:27.168Z"
   },
   {
    "duration": 188,
    "start_time": "2023-04-26T20:26:27.395Z"
   },
   {
    "duration": 2397,
    "start_time": "2023-04-26T20:26:27.584Z"
   },
   {
    "duration": 51,
    "start_time": "2023-04-26T20:26:29.984Z"
   },
   {
    "duration": 727,
    "start_time": "2023-04-26T20:26:30.037Z"
   },
   {
    "duration": 4563,
    "start_time": "2023-04-26T20:26:30.766Z"
   },
   {
    "duration": 6,
    "start_time": "2023-04-26T20:26:35.330Z"
   },
   {
    "duration": 1381,
    "start_time": "2023-04-26T20:26:35.337Z"
   },
   {
    "duration": 13,
    "start_time": "2023-04-26T20:26:36.720Z"
   },
   {
    "duration": 753,
    "start_time": "2023-04-26T20:26:36.735Z"
   },
   {
    "duration": 53,
    "start_time": "2023-04-26T20:26:37.489Z"
   },
   {
    "duration": 265170,
    "start_time": "2023-04-26T20:26:37.544Z"
   },
   {
    "duration": 21,
    "start_time": "2023-04-26T20:31:02.715Z"
   },
   {
    "duration": 9,
    "start_time": "2023-04-26T20:31:02.737Z"
   },
   {
    "duration": 563,
    "start_time": "2023-04-26T21:50:49.565Z"
   },
   {
    "duration": 791,
    "start_time": "2023-04-26T21:50:50.129Z"
   },
   {
    "duration": 806,
    "start_time": "2023-04-26T21:50:50.921Z"
   },
   {
    "duration": 13,
    "start_time": "2023-04-26T21:50:51.729Z"
   },
   {
    "duration": 26,
    "start_time": "2023-04-26T21:50:51.743Z"
   },
   {
    "duration": 25,
    "start_time": "2023-04-26T21:50:51.770Z"
   },
   {
    "duration": 216,
    "start_time": "2023-04-26T21:50:51.797Z"
   },
   {
    "duration": 175,
    "start_time": "2023-04-26T21:50:52.015Z"
   },
   {
    "duration": 2250,
    "start_time": "2023-04-26T21:50:52.191Z"
   },
   {
    "duration": 35,
    "start_time": "2023-04-26T21:50:54.443Z"
   },
   {
    "duration": 669,
    "start_time": "2023-04-26T21:50:54.479Z"
   },
   {
    "duration": 4191,
    "start_time": "2023-04-26T21:50:55.150Z"
   },
   {
    "duration": 5,
    "start_time": "2023-04-26T21:50:59.343Z"
   },
   {
    "duration": 1540,
    "start_time": "2023-04-26T21:50:59.350Z"
   },
   {
    "duration": 5,
    "start_time": "2023-04-26T21:51:00.892Z"
   },
   {
    "duration": 701,
    "start_time": "2023-04-26T21:51:00.899Z"
   },
   {
    "duration": 49,
    "start_time": "2023-04-26T21:51:01.602Z"
   },
   {
    "duration": 261949,
    "start_time": "2023-04-26T21:51:01.652Z"
   },
   {
    "duration": 19,
    "start_time": "2023-04-26T21:55:23.603Z"
   },
   {
    "duration": 21,
    "start_time": "2023-04-26T21:55:23.624Z"
   },
   {
    "duration": 11978916,
    "start_time": "2023-04-26T21:55:23.646Z"
   },
   {
    "duration": 751,
    "start_time": "2023-04-27T08:28:29.116Z"
   },
   {
    "duration": 926,
    "start_time": "2023-04-27T08:28:29.869Z"
   },
   {
    "duration": 3664,
    "start_time": "2023-04-27T08:28:30.797Z"
   },
   {
    "duration": 13,
    "start_time": "2023-04-27T08:28:34.463Z"
   },
   {
    "duration": 30,
    "start_time": "2023-04-27T08:28:34.478Z"
   },
   {
    "duration": 26,
    "start_time": "2023-04-27T08:28:34.509Z"
   },
   {
    "duration": 232,
    "start_time": "2023-04-27T08:28:34.536Z"
   },
   {
    "duration": 193,
    "start_time": "2023-04-27T08:28:34.770Z"
   },
   {
    "duration": 2143,
    "start_time": "2023-04-27T08:28:34.964Z"
   },
   {
    "duration": 38,
    "start_time": "2023-04-27T08:28:37.109Z"
   },
   {
    "duration": 641,
    "start_time": "2023-04-27T08:28:37.149Z"
   },
   {
    "duration": 4358,
    "start_time": "2023-04-27T08:28:37.795Z"
   },
   {
    "duration": 5,
    "start_time": "2023-04-27T08:28:42.155Z"
   },
   {
    "duration": 2123,
    "start_time": "2023-04-27T08:28:42.162Z"
   },
   {
    "duration": 7,
    "start_time": "2023-04-27T08:28:44.293Z"
   },
   {
    "duration": 583,
    "start_time": "2023-04-27T08:28:44.302Z"
   },
   {
    "duration": 41,
    "start_time": "2023-04-27T08:28:44.886Z"
   },
   {
    "duration": 230169,
    "start_time": "2023-04-27T08:28:44.929Z"
   },
   {
    "duration": 17,
    "start_time": "2023-04-27T08:32:35.100Z"
   },
   {
    "duration": 10,
    "start_time": "2023-04-27T08:32:35.118Z"
   },
   {
    "duration": 196,
    "start_time": "2023-04-27T08:32:35.130Z"
   },
   {
    "duration": 11,
    "start_time": "2023-04-27T08:32:35.327Z"
   },
   {
    "duration": 0,
    "start_time": "2023-04-27T08:32:35.340Z"
   },
   {
    "duration": 73,
    "start_time": "2023-04-27T08:34:18.924Z"
   },
   {
    "duration": 20,
    "start_time": "2023-04-27T08:34:27.036Z"
   },
   {
    "duration": 84,
    "start_time": "2023-04-27T08:34:40.936Z"
   },
   {
    "duration": 81,
    "start_time": "2023-04-27T08:34:48.288Z"
   },
   {
    "duration": 3,
    "start_time": "2023-04-27T08:35:29.120Z"
   },
   {
    "duration": 128770,
    "start_time": "2023-04-27T08:35:36.243Z"
   },
   {
    "duration": 4730,
    "start_time": "2023-04-27T08:37:45.015Z"
   },
   {
    "duration": 1244,
    "start_time": "2023-04-27T08:55:21.868Z"
   },
   {
    "duration": 103,
    "start_time": "2023-04-27T08:55:38.924Z"
   },
   {
    "duration": 617,
    "start_time": "2023-04-27T08:55:44.684Z"
   },
   {
    "duration": 826,
    "start_time": "2023-04-27T08:55:45.303Z"
   },
   {
    "duration": 739,
    "start_time": "2023-04-27T08:55:46.131Z"
   },
   {
    "duration": 13,
    "start_time": "2023-04-27T08:55:46.872Z"
   },
   {
    "duration": 32,
    "start_time": "2023-04-27T08:55:46.894Z"
   },
   {
    "duration": 25,
    "start_time": "2023-04-27T08:55:46.928Z"
   },
   {
    "duration": 232,
    "start_time": "2023-04-27T08:55:46.954Z"
   },
   {
    "duration": 196,
    "start_time": "2023-04-27T08:55:47.188Z"
   },
   {
    "duration": 2157,
    "start_time": "2023-04-27T08:55:47.385Z"
   },
   {
    "duration": 3,
    "start_time": "2023-04-27T08:55:49.544Z"
   },
   {
    "duration": 110,
    "start_time": "2023-04-27T08:55:49.548Z"
   },
   {
    "duration": 634,
    "start_time": "2023-04-27T08:55:49.660Z"
   },
   {
    "duration": 4428,
    "start_time": "2023-04-27T08:55:50.296Z"
   },
   {
    "duration": 6,
    "start_time": "2023-04-27T08:55:54.726Z"
   },
   {
    "duration": 1355,
    "start_time": "2023-04-27T08:55:54.733Z"
   },
   {
    "duration": 8,
    "start_time": "2023-04-27T08:55:56.089Z"
   },
   {
    "duration": 650,
    "start_time": "2023-04-27T08:55:56.099Z"
   },
   {
    "duration": 49,
    "start_time": "2023-04-27T08:55:56.751Z"
   },
   {
    "duration": 201507,
    "start_time": "2023-04-27T08:55:56.802Z"
   },
   {
    "duration": 16,
    "start_time": "2023-04-27T08:59:18.310Z"
   },
   {
    "duration": 10,
    "start_time": "2023-04-27T08:59:18.328Z"
   },
   {
    "duration": 128307,
    "start_time": "2023-04-27T08:59:18.339Z"
   },
   {
    "duration": 5007,
    "start_time": "2023-04-27T09:01:26.648Z"
   },
   {
    "duration": 3,
    "start_time": "2023-04-27T09:01:31.657Z"
   },
   {
    "duration": 1892,
    "start_time": "2023-04-27T09:20:45.414Z"
   },
   {
    "duration": 130,
    "start_time": "2023-04-27T09:21:55.944Z"
   },
   {
    "duration": 14,
    "start_time": "2023-04-27T09:22:43.656Z"
   },
   {
    "duration": 705825,
    "start_time": "2023-04-27T09:30:38.811Z"
   },
   {
    "duration": 11,
    "start_time": "2023-04-27T09:48:10.487Z"
   },
   {
    "duration": 10,
    "start_time": "2023-04-27T09:48:54.644Z"
   },
   {
    "duration": 10,
    "start_time": "2023-04-27T09:50:30.012Z"
   },
   {
    "duration": 3070,
    "start_time": "2023-04-27T09:51:10.167Z"
   },
   {
    "duration": 4764,
    "start_time": "2023-04-27T09:57:15.215Z"
   },
   {
    "duration": 6,
    "start_time": "2023-04-27T09:57:20.855Z"
   },
   {
    "duration": 689,
    "start_time": "2023-04-27T10:01:08.856Z"
   },
   {
    "duration": 895,
    "start_time": "2023-04-27T10:01:09.547Z"
   },
   {
    "duration": 810,
    "start_time": "2023-04-27T10:01:10.444Z"
   },
   {
    "duration": 15,
    "start_time": "2023-04-27T10:01:11.256Z"
   },
   {
    "duration": 44,
    "start_time": "2023-04-27T10:01:11.273Z"
   },
   {
    "duration": 27,
    "start_time": "2023-04-27T10:01:11.319Z"
   },
   {
    "duration": 274,
    "start_time": "2023-04-27T10:01:11.348Z"
   },
   {
    "duration": 240,
    "start_time": "2023-04-27T10:01:11.624Z"
   },
   {
    "duration": 2274,
    "start_time": "2023-04-27T10:01:11.867Z"
   },
   {
    "duration": 3,
    "start_time": "2023-04-27T10:01:14.144Z"
   },
   {
    "duration": 150,
    "start_time": "2023-04-27T10:01:14.149Z"
   },
   {
    "duration": 2,
    "start_time": "2023-04-27T10:01:14.301Z"
   },
   {
    "duration": 410,
    "start_time": "2023-04-27T10:01:14.305Z"
   },
   {
    "duration": 0,
    "start_time": "2023-04-27T10:01:14.717Z"
   },
   {
    "duration": 0,
    "start_time": "2023-04-27T10:01:14.719Z"
   },
   {
    "duration": 0,
    "start_time": "2023-04-27T10:01:14.720Z"
   },
   {
    "duration": 0,
    "start_time": "2023-04-27T10:01:14.721Z"
   },
   {
    "duration": 0,
    "start_time": "2023-04-27T10:01:14.721Z"
   },
   {
    "duration": 0,
    "start_time": "2023-04-27T10:01:14.722Z"
   },
   {
    "duration": 0,
    "start_time": "2023-04-27T10:01:14.723Z"
   },
   {
    "duration": 0,
    "start_time": "2023-04-27T10:01:14.725Z"
   },
   {
    "duration": 0,
    "start_time": "2023-04-27T10:01:14.727Z"
   },
   {
    "duration": 0,
    "start_time": "2023-04-27T10:01:14.729Z"
   },
   {
    "duration": 0,
    "start_time": "2023-04-27T10:01:14.730Z"
   },
   {
    "duration": 0,
    "start_time": "2023-04-27T10:01:14.731Z"
   },
   {
    "duration": 0,
    "start_time": "2023-04-27T10:01:14.732Z"
   },
   {
    "duration": 14,
    "start_time": "2023-04-27T10:05:06.355Z"
   },
   {
    "duration": 12,
    "start_time": "2023-04-27T10:05:21.054Z"
   },
   {
    "duration": 12,
    "start_time": "2023-04-27T10:05:48.687Z"
   },
   {
    "duration": 1553,
    "start_time": "2023-04-27T10:06:27.942Z"
   },
   {
    "duration": 624,
    "start_time": "2023-04-27T10:09:07.916Z"
   },
   {
    "duration": 891,
    "start_time": "2023-04-27T10:09:08.541Z"
   },
   {
    "duration": 839,
    "start_time": "2023-04-27T10:09:09.433Z"
   },
   {
    "duration": 22,
    "start_time": "2023-04-27T10:09:10.275Z"
   },
   {
    "duration": 36,
    "start_time": "2023-04-27T10:09:10.299Z"
   },
   {
    "duration": 51,
    "start_time": "2023-04-27T10:09:10.337Z"
   },
   {
    "duration": 259,
    "start_time": "2023-04-27T10:09:10.390Z"
   },
   {
    "duration": 225,
    "start_time": "2023-04-27T10:09:10.651Z"
   },
   {
    "duration": 2538,
    "start_time": "2023-04-27T10:09:10.878Z"
   },
   {
    "duration": 3,
    "start_time": "2023-04-27T10:09:13.420Z"
   },
   {
    "duration": 122,
    "start_time": "2023-04-27T10:09:13.425Z"
   },
   {
    "duration": 3,
    "start_time": "2023-04-27T10:09:13.548Z"
   },
   {
    "duration": 716729,
    "start_time": "2023-04-27T10:09:13.552Z"
   },
   {
    "duration": 3302,
    "start_time": "2023-04-27T10:21:10.283Z"
   },
   {
    "duration": 5055,
    "start_time": "2023-04-27T10:21:13.587Z"
   },
   {
    "duration": 332,
    "start_time": "2023-04-27T10:21:18.643Z"
   },
   {
    "duration": 0,
    "start_time": "2023-04-27T10:21:18.977Z"
   },
   {
    "duration": 0,
    "start_time": "2023-04-27T10:21:18.978Z"
   },
   {
    "duration": 0,
    "start_time": "2023-04-27T10:21:18.980Z"
   },
   {
    "duration": 0,
    "start_time": "2023-04-27T10:21:18.981Z"
   },
   {
    "duration": 0,
    "start_time": "2023-04-27T10:21:18.983Z"
   },
   {
    "duration": 0,
    "start_time": "2023-04-27T10:21:18.994Z"
   },
   {
    "duration": 0,
    "start_time": "2023-04-27T10:21:18.995Z"
   },
   {
    "duration": 0,
    "start_time": "2023-04-27T10:21:18.996Z"
   },
   {
    "duration": 0,
    "start_time": "2023-04-27T10:21:18.996Z"
   },
   {
    "duration": 0,
    "start_time": "2023-04-27T10:21:18.997Z"
   },
   {
    "duration": 3,
    "start_time": "2023-04-27T10:28:48.446Z"
   },
   {
    "duration": 23,
    "start_time": "2023-04-27T10:28:49.383Z"
   },
   {
    "duration": 1461,
    "start_time": "2023-04-27T10:29:50.575Z"
   },
   {
    "duration": 2,
    "start_time": "2023-04-27T10:29:55.879Z"
   },
   {
    "duration": 21,
    "start_time": "2023-04-27T10:29:56.502Z"
   },
   {
    "duration": 595,
    "start_time": "2023-04-27T10:36:25.211Z"
   },
   {
    "duration": 897,
    "start_time": "2023-04-27T10:36:25.808Z"
   },
   {
    "duration": 777,
    "start_time": "2023-04-27T10:36:26.707Z"
   },
   {
    "duration": 18,
    "start_time": "2023-04-27T10:36:27.486Z"
   },
   {
    "duration": 37,
    "start_time": "2023-04-27T10:36:27.505Z"
   },
   {
    "duration": 39,
    "start_time": "2023-04-27T10:36:27.544Z"
   },
   {
    "duration": 223,
    "start_time": "2023-04-27T10:36:27.584Z"
   },
   {
    "duration": 196,
    "start_time": "2023-04-27T10:36:27.809Z"
   },
   {
    "duration": 2234,
    "start_time": "2023-04-27T10:36:28.006Z"
   },
   {
    "duration": 2,
    "start_time": "2023-04-27T10:36:30.242Z"
   },
   {
    "duration": 125,
    "start_time": "2023-04-27T10:36:30.246Z"
   },
   {
    "duration": 3,
    "start_time": "2023-04-27T10:36:30.372Z"
   },
   {
    "duration": 669147,
    "start_time": "2023-04-27T10:36:30.377Z"
   },
   {
    "duration": 2806,
    "start_time": "2023-04-27T10:47:39.526Z"
   },
   {
    "duration": 4430,
    "start_time": "2023-04-27T10:47:42.334Z"
   },
   {
    "duration": 997,
    "start_time": "2023-04-27T10:47:46.766Z"
   },
   {
    "duration": 0,
    "start_time": "2023-04-27T10:47:47.765Z"
   },
   {
    "duration": 0,
    "start_time": "2023-04-27T10:47:47.766Z"
   },
   {
    "duration": 0,
    "start_time": "2023-04-27T10:47:47.768Z"
   },
   {
    "duration": 0,
    "start_time": "2023-04-27T10:47:47.769Z"
   },
   {
    "duration": 0,
    "start_time": "2023-04-27T10:47:47.769Z"
   },
   {
    "duration": 0,
    "start_time": "2023-04-27T10:47:47.771Z"
   },
   {
    "duration": 0,
    "start_time": "2023-04-27T10:47:47.772Z"
   },
   {
    "duration": 0,
    "start_time": "2023-04-27T10:47:47.773Z"
   },
   {
    "duration": 0,
    "start_time": "2023-04-27T10:47:47.774Z"
   },
   {
    "duration": 0,
    "start_time": "2023-04-27T10:47:47.775Z"
   },
   {
    "duration": 21,
    "start_time": "2023-04-27T10:53:00.332Z"
   },
   {
    "duration": 34,
    "start_time": "2023-04-27T10:53:00.779Z"
   },
   {
    "duration": 5,
    "start_time": "2023-04-27T10:53:19.367Z"
   },
   {
    "duration": 456,
    "start_time": "2023-04-27T10:53:30.072Z"
   },
   {
    "duration": 28,
    "start_time": "2023-04-27T10:53:35.624Z"
   },
   {
    "duration": 28,
    "start_time": "2023-04-27T10:53:38.943Z"
   },
   {
    "duration": 613,
    "start_time": "2023-04-27T10:53:52.423Z"
   },
   {
    "duration": 838,
    "start_time": "2023-04-27T10:53:53.038Z"
   },
   {
    "duration": 892,
    "start_time": "2023-04-27T10:53:53.877Z"
   },
   {
    "duration": 14,
    "start_time": "2023-04-27T10:53:54.771Z"
   },
   {
    "duration": 33,
    "start_time": "2023-04-27T10:53:54.794Z"
   },
   {
    "duration": 29,
    "start_time": "2023-04-27T10:53:54.828Z"
   },
   {
    "duration": 250,
    "start_time": "2023-04-27T10:53:54.859Z"
   },
   {
    "duration": 192,
    "start_time": "2023-04-27T10:53:55.111Z"
   },
   {
    "duration": 2361,
    "start_time": "2023-04-27T10:53:55.304Z"
   },
   {
    "duration": 2,
    "start_time": "2023-04-27T10:53:57.668Z"
   },
   {
    "duration": 130,
    "start_time": "2023-04-27T10:53:57.672Z"
   },
   {
    "duration": 679,
    "start_time": "2023-04-27T10:53:57.804Z"
   },
   {
    "duration": 11,
    "start_time": "2023-04-27T10:53:58.485Z"
   },
   {
    "duration": 2950,
    "start_time": "2023-04-27T10:53:58.498Z"
   },
   {
    "duration": 4443,
    "start_time": "2023-04-27T10:54:01.451Z"
   },
   {
    "duration": 5,
    "start_time": "2023-04-27T10:54:05.896Z"
   },
   {
    "duration": 1384,
    "start_time": "2023-04-27T10:54:05.903Z"
   },
   {
    "duration": 9,
    "start_time": "2023-04-27T10:54:07.289Z"
   },
   {
    "duration": 601,
    "start_time": "2023-04-27T10:54:07.299Z"
   },
   {
    "duration": 41,
    "start_time": "2023-04-27T10:54:07.901Z"
   },
   {
    "duration": 193913,
    "start_time": "2023-04-27T10:54:07.944Z"
   },
   {
    "duration": 18,
    "start_time": "2023-04-27T10:57:21.859Z"
   },
   {
    "duration": 23,
    "start_time": "2023-04-27T10:57:21.878Z"
   },
   {
    "duration": 127386,
    "start_time": "2023-04-27T10:57:21.902Z"
   },
   {
    "duration": 5219,
    "start_time": "2023-04-27T10:59:29.290Z"
   },
   {
    "duration": 3,
    "start_time": "2023-04-27T10:59:34.510Z"
   },
   {
    "duration": 861,
    "start_time": "2023-04-27T17:26:35.300Z"
   },
   {
    "duration": 1149,
    "start_time": "2023-04-27T17:26:36.164Z"
   },
   {
    "duration": 3916,
    "start_time": "2023-04-27T17:26:37.315Z"
   },
   {
    "duration": 15,
    "start_time": "2023-04-27T17:26:41.233Z"
   },
   {
    "duration": 34,
    "start_time": "2023-04-27T17:26:41.249Z"
   },
   {
    "duration": 38,
    "start_time": "2023-04-27T17:26:41.285Z"
   },
   {
    "duration": 247,
    "start_time": "2023-04-27T17:26:41.325Z"
   },
   {
    "duration": 217,
    "start_time": "2023-04-27T17:26:41.573Z"
   },
   {
    "duration": 2657,
    "start_time": "2023-04-27T17:26:41.791Z"
   },
   {
    "duration": 2,
    "start_time": "2023-04-27T17:26:44.451Z"
   },
   {
    "duration": 130,
    "start_time": "2023-04-27T17:26:44.455Z"
   },
   {
    "duration": 3,
    "start_time": "2023-04-27T17:26:44.587Z"
   },
   {
    "duration": 20,
    "start_time": "2023-04-27T17:26:44.592Z"
   },
   {
    "duration": 4411,
    "start_time": "2023-04-27T17:26:44.615Z"
   },
   {
    "duration": 443,
    "start_time": "2023-04-27T17:26:49.028Z"
   },
   {
    "duration": 0,
    "start_time": "2023-04-27T17:26:49.474Z"
   },
   {
    "duration": 0,
    "start_time": "2023-04-27T17:26:49.475Z"
   },
   {
    "duration": 0,
    "start_time": "2023-04-27T17:26:49.477Z"
   },
   {
    "duration": 0,
    "start_time": "2023-04-27T17:26:49.479Z"
   },
   {
    "duration": 0,
    "start_time": "2023-04-27T17:26:49.480Z"
   },
   {
    "duration": 0,
    "start_time": "2023-04-27T17:26:49.482Z"
   },
   {
    "duration": 0,
    "start_time": "2023-04-27T17:26:49.483Z"
   },
   {
    "duration": 0,
    "start_time": "2023-04-27T17:26:49.485Z"
   },
   {
    "duration": 0,
    "start_time": "2023-04-27T17:26:49.511Z"
   },
   {
    "duration": 1,
    "start_time": "2023-04-27T17:26:49.512Z"
   },
   {
    "duration": 0,
    "start_time": "2023-04-27T17:26:49.514Z"
   },
   {
    "duration": 21,
    "start_time": "2023-04-27T17:27:42.232Z"
   },
   {
    "duration": 44,
    "start_time": "2023-04-27T20:12:35.670Z"
   },
   {
    "duration": 12,
    "start_time": "2023-04-27T20:12:37.354Z"
   },
   {
    "duration": 808,
    "start_time": "2023-04-27T20:14:06.510Z"
   },
   {
    "duration": 1008,
    "start_time": "2023-04-27T20:14:07.321Z"
   },
   {
    "duration": 4108,
    "start_time": "2023-04-27T20:14:08.331Z"
   },
   {
    "duration": 27,
    "start_time": "2023-04-27T20:14:12.441Z"
   },
   {
    "duration": 36,
    "start_time": "2023-04-27T20:14:12.470Z"
   },
   {
    "duration": 33,
    "start_time": "2023-04-27T20:14:12.508Z"
   },
   {
    "duration": 293,
    "start_time": "2023-04-27T20:14:12.543Z"
   },
   {
    "duration": 170,
    "start_time": "2023-04-27T20:14:12.838Z"
   },
   {
    "duration": 3029,
    "start_time": "2023-04-27T20:14:13.010Z"
   },
   {
    "duration": 3,
    "start_time": "2023-04-27T20:14:16.042Z"
   },
   {
    "duration": 142,
    "start_time": "2023-04-27T20:14:16.056Z"
   },
   {
    "duration": 4,
    "start_time": "2023-04-27T20:14:16.200Z"
   },
   {
    "duration": 4,
    "start_time": "2023-04-27T20:14:16.207Z"
   },
   {
    "duration": 3746,
    "start_time": "2023-04-27T20:14:16.213Z"
   },
   {
    "duration": 3,
    "start_time": "2023-04-27T20:14:19.963Z"
   },
   {
    "duration": 336,
    "start_time": "2023-04-27T20:14:19.972Z"
   },
   {
    "duration": 0,
    "start_time": "2023-04-27T20:14:20.310Z"
   },
   {
    "duration": 0,
    "start_time": "2023-04-27T20:14:20.311Z"
   },
   {
    "duration": 0,
    "start_time": "2023-04-27T20:14:20.313Z"
   },
   {
    "duration": 0,
    "start_time": "2023-04-27T20:14:20.314Z"
   },
   {
    "duration": 0,
    "start_time": "2023-04-27T20:14:20.315Z"
   },
   {
    "duration": 0,
    "start_time": "2023-04-27T20:14:20.317Z"
   },
   {
    "duration": 0,
    "start_time": "2023-04-27T20:14:20.318Z"
   },
   {
    "duration": 0,
    "start_time": "2023-04-27T20:14:20.319Z"
   },
   {
    "duration": 0,
    "start_time": "2023-04-27T20:14:20.320Z"
   },
   {
    "duration": 0,
    "start_time": "2023-04-27T20:14:20.322Z"
   },
   {
    "duration": 0,
    "start_time": "2023-04-27T20:14:20.323Z"
   },
   {
    "duration": 6,
    "start_time": "2023-04-27T20:15:18.354Z"
   },
   {
    "duration": 5937,
    "start_time": "2023-04-27T20:15:19.323Z"
   },
   {
    "duration": 29,
    "start_time": "2023-04-27T20:15:25.262Z"
   },
   {
    "duration": 114,
    "start_time": "2023-04-27T20:19:02.775Z"
   },
   {
    "duration": 23,
    "start_time": "2023-04-27T20:22:55.666Z"
   },
   {
    "duration": 81,
    "start_time": "2023-04-27T20:23:28.102Z"
   },
   {
    "duration": 18,
    "start_time": "2023-04-27T20:27:50.700Z"
   },
   {
    "duration": 629,
    "start_time": "2023-04-27T20:34:53.124Z"
   },
   {
    "duration": 961,
    "start_time": "2023-04-27T20:34:53.754Z"
   },
   {
    "duration": 810,
    "start_time": "2023-04-27T20:34:54.717Z"
   },
   {
    "duration": 20,
    "start_time": "2023-04-27T20:34:55.529Z"
   },
   {
    "duration": 37,
    "start_time": "2023-04-27T20:34:55.560Z"
   },
   {
    "duration": 27,
    "start_time": "2023-04-27T20:34:55.599Z"
   },
   {
    "duration": 259,
    "start_time": "2023-04-27T20:34:55.627Z"
   },
   {
    "duration": 211,
    "start_time": "2023-04-27T20:34:55.887Z"
   },
   {
    "duration": 2474,
    "start_time": "2023-04-27T20:34:56.100Z"
   },
   {
    "duration": 3,
    "start_time": "2023-04-27T20:34:58.576Z"
   },
   {
    "duration": 132,
    "start_time": "2023-04-27T20:34:58.580Z"
   },
   {
    "duration": 2,
    "start_time": "2023-04-27T20:34:58.715Z"
   },
   {
    "duration": 12,
    "start_time": "2023-04-27T20:34:58.719Z"
   },
   {
    "duration": 3539,
    "start_time": "2023-04-27T20:34:58.734Z"
   },
   {
    "duration": 4,
    "start_time": "2023-04-27T20:35:02.275Z"
   },
   {
    "duration": 5244,
    "start_time": "2023-04-27T20:35:02.281Z"
   },
   {
    "duration": 2,
    "start_time": "2023-04-27T20:35:07.527Z"
   },
   {
    "duration": 329,
    "start_time": "2023-04-27T20:35:07.531Z"
   },
   {
    "duration": 0,
    "start_time": "2023-04-27T20:35:07.861Z"
   },
   {
    "duration": 0,
    "start_time": "2023-04-27T20:35:07.862Z"
   },
   {
    "duration": 0,
    "start_time": "2023-04-27T20:35:07.863Z"
   },
   {
    "duration": 0,
    "start_time": "2023-04-27T20:35:07.863Z"
   },
   {
    "duration": 0,
    "start_time": "2023-04-27T20:35:07.866Z"
   },
   {
    "duration": 0,
    "start_time": "2023-04-27T20:35:07.867Z"
   },
   {
    "duration": 0,
    "start_time": "2023-04-27T20:35:07.868Z"
   },
   {
    "duration": 0,
    "start_time": "2023-04-27T20:35:07.869Z"
   },
   {
    "duration": 0,
    "start_time": "2023-04-27T20:35:07.870Z"
   },
   {
    "duration": 3,
    "start_time": "2023-04-27T20:36:09.241Z"
   },
   {
    "duration": 1390,
    "start_time": "2023-04-27T20:36:10.203Z"
   },
   {
    "duration": 26,
    "start_time": "2023-04-27T20:36:16.146Z"
   },
   {
    "duration": 3,
    "start_time": "2023-04-27T20:37:32.621Z"
   },
   {
    "duration": 817,
    "start_time": "2023-04-27T20:37:33.741Z"
   },
   {
    "duration": 40,
    "start_time": "2023-04-27T20:37:46.124Z"
   },
   {
    "duration": 212859,
    "start_time": "2023-04-27T20:39:18.262Z"
   },
   {
    "duration": 18,
    "start_time": "2023-04-27T20:42:51.123Z"
   },
   {
    "duration": 137832,
    "start_time": "2023-04-27T20:42:51.143Z"
   },
   {
    "duration": 5826,
    "start_time": "2023-04-27T20:45:08.977Z"
   },
   {
    "duration": 801,
    "start_time": "2023-04-28T06:44:10.460Z"
   },
   {
    "duration": 917,
    "start_time": "2023-04-28T06:44:11.264Z"
   },
   {
    "duration": 3459,
    "start_time": "2023-04-28T06:44:12.183Z"
   },
   {
    "duration": 14,
    "start_time": "2023-04-28T06:44:15.644Z"
   },
   {
    "duration": 37,
    "start_time": "2023-04-28T06:44:15.660Z"
   },
   {
    "duration": 31,
    "start_time": "2023-04-28T06:44:15.699Z"
   },
   {
    "duration": 253,
    "start_time": "2023-04-28T06:44:15.732Z"
   },
   {
    "duration": 234,
    "start_time": "2023-04-28T06:44:15.987Z"
   },
   {
    "duration": 2591,
    "start_time": "2023-04-28T06:44:16.223Z"
   },
   {
    "duration": 3,
    "start_time": "2023-04-28T06:44:18.818Z"
   },
   {
    "duration": 197,
    "start_time": "2023-04-28T06:44:18.823Z"
   },
   {
    "duration": 4,
    "start_time": "2023-04-28T06:44:19.022Z"
   },
   {
    "duration": 11,
    "start_time": "2023-04-28T06:44:19.028Z"
   },
   {
    "duration": 3165,
    "start_time": "2023-04-28T06:44:19.042Z"
   },
   {
    "duration": 3,
    "start_time": "2023-04-28T06:44:22.212Z"
   },
   {
    "duration": 4901,
    "start_time": "2023-04-28T06:44:22.217Z"
   },
   {
    "duration": 2,
    "start_time": "2023-04-28T06:44:27.120Z"
   },
   {
    "duration": 4,
    "start_time": "2023-04-28T06:44:27.124Z"
   },
   {
    "duration": 1487,
    "start_time": "2023-04-28T06:44:27.129Z"
   },
   {
    "duration": 3,
    "start_time": "2023-04-28T06:44:28.618Z"
   },
   {
    "duration": 5,
    "start_time": "2023-04-28T06:44:28.622Z"
   },
   {
    "duration": 771,
    "start_time": "2023-04-28T06:44:28.628Z"
   },
   {
    "duration": 48,
    "start_time": "2023-04-28T06:44:29.401Z"
   },
   {
    "duration": 228407,
    "start_time": "2023-04-28T06:44:29.451Z"
   },
   {
    "duration": 25,
    "start_time": "2023-04-28T06:48:17.861Z"
   },
   {
    "duration": 168770,
    "start_time": "2023-04-28T06:48:17.888Z"
   },
   {
    "duration": 5642,
    "start_time": "2023-04-28T06:51:06.659Z"
   },
   {
    "duration": 3,
    "start_time": "2023-04-28T06:51:12.311Z"
   },
   {
    "duration": 23,
    "start_time": "2023-04-28T06:51:12.316Z"
   },
   {
    "duration": 74,
    "start_time": "2023-04-28T17:43:23.880Z"
   },
   {
    "duration": 5859,
    "start_time": "2023-04-28T17:53:19.768Z"
   },
   {
    "duration": 773,
    "start_time": "2023-04-28T17:53:25.630Z"
   },
   {
    "duration": 2523,
    "start_time": "2023-04-28T17:53:26.405Z"
   },
   {
    "duration": 21,
    "start_time": "2023-04-28T17:53:28.930Z"
   },
   {
    "duration": 54,
    "start_time": "2023-04-28T17:53:28.953Z"
   },
   {
    "duration": 37,
    "start_time": "2023-04-28T17:53:29.009Z"
   },
   {
    "duration": 308,
    "start_time": "2023-04-28T17:53:29.048Z"
   },
   {
    "duration": 155,
    "start_time": "2023-04-28T17:53:29.358Z"
   },
   {
    "duration": 2798,
    "start_time": "2023-04-28T17:53:29.515Z"
   },
   {
    "duration": 2,
    "start_time": "2023-04-28T17:53:32.316Z"
   },
   {
    "duration": 153,
    "start_time": "2023-04-28T17:53:32.320Z"
   },
   {
    "duration": 3,
    "start_time": "2023-04-28T17:53:32.475Z"
   },
   {
    "duration": 39,
    "start_time": "2023-04-28T17:53:32.479Z"
   },
   {
    "duration": 1237,
    "start_time": "2023-04-28T17:53:32.520Z"
   },
   {
    "duration": 0,
    "start_time": "2023-04-28T17:53:33.760Z"
   },
   {
    "duration": 0,
    "start_time": "2023-04-28T17:53:33.761Z"
   },
   {
    "duration": 0,
    "start_time": "2023-04-28T17:53:33.762Z"
   },
   {
    "duration": 0,
    "start_time": "2023-04-28T17:53:33.764Z"
   },
   {
    "duration": 0,
    "start_time": "2023-04-28T17:53:33.765Z"
   },
   {
    "duration": 0,
    "start_time": "2023-04-28T17:53:33.767Z"
   },
   {
    "duration": 0,
    "start_time": "2023-04-28T17:53:33.768Z"
   },
   {
    "duration": 0,
    "start_time": "2023-04-28T17:53:33.770Z"
   },
   {
    "duration": 0,
    "start_time": "2023-04-28T17:53:33.771Z"
   },
   {
    "duration": 0,
    "start_time": "2023-04-28T17:53:33.772Z"
   },
   {
    "duration": 0,
    "start_time": "2023-04-28T17:53:33.774Z"
   },
   {
    "duration": 0,
    "start_time": "2023-04-28T17:53:33.775Z"
   },
   {
    "duration": 0,
    "start_time": "2023-04-28T17:53:33.776Z"
   },
   {
    "duration": 0,
    "start_time": "2023-04-28T17:53:33.778Z"
   },
   {
    "duration": 0,
    "start_time": "2023-04-28T17:53:33.779Z"
   },
   {
    "duration": 4248,
    "start_time": "2023-04-28T18:00:55.976Z"
   },
   {
    "duration": 814,
    "start_time": "2023-04-28T18:01:00.227Z"
   },
   {
    "duration": 987,
    "start_time": "2023-04-28T18:01:01.043Z"
   },
   {
    "duration": 20,
    "start_time": "2023-04-28T18:01:02.032Z"
   },
   {
    "duration": 58,
    "start_time": "2023-04-28T18:01:02.055Z"
   },
   {
    "duration": 52,
    "start_time": "2023-04-28T18:01:02.115Z"
   },
   {
    "duration": 301,
    "start_time": "2023-04-28T18:01:02.169Z"
   },
   {
    "duration": 156,
    "start_time": "2023-04-28T18:01:02.472Z"
   },
   {
    "duration": 2650,
    "start_time": "2023-04-28T18:01:02.630Z"
   },
   {
    "duration": 3,
    "start_time": "2023-04-28T18:01:05.282Z"
   },
   {
    "duration": 171,
    "start_time": "2023-04-28T18:01:05.287Z"
   },
   {
    "duration": 3,
    "start_time": "2023-04-28T18:01:05.460Z"
   },
   {
    "duration": 22,
    "start_time": "2023-04-28T18:01:05.466Z"
   },
   {
    "duration": 4184,
    "start_time": "2023-04-28T18:28:15.611Z"
   },
   {
    "duration": 710,
    "start_time": "2023-04-28T18:28:19.797Z"
   },
   {
    "duration": 894,
    "start_time": "2023-04-28T18:28:20.510Z"
   },
   {
    "duration": 20,
    "start_time": "2023-04-28T18:28:21.406Z"
   },
   {
    "duration": 48,
    "start_time": "2023-04-28T18:28:21.429Z"
   },
   {
    "duration": 33,
    "start_time": "2023-04-28T18:28:21.479Z"
   },
   {
    "duration": 295,
    "start_time": "2023-04-28T18:28:21.513Z"
   },
   {
    "duration": 150,
    "start_time": "2023-04-28T18:28:21.810Z"
   },
   {
    "duration": 2586,
    "start_time": "2023-04-28T18:28:21.962Z"
   },
   {
    "duration": 3,
    "start_time": "2023-04-28T18:28:24.550Z"
   },
   {
    "duration": 154,
    "start_time": "2023-04-28T18:28:24.555Z"
   },
   {
    "duration": 3,
    "start_time": "2023-04-28T18:28:24.711Z"
   },
   {
    "duration": 13,
    "start_time": "2023-04-28T18:28:24.717Z"
   },
   {
    "duration": 2757439,
    "start_time": "2023-04-28T18:28:24.734Z"
   },
   {
    "duration": 4,
    "start_time": "2023-04-28T19:14:22.176Z"
   },
   {
    "duration": 5,
    "start_time": "2023-04-28T19:14:22.182Z"
   },
   {
    "duration": 5200,
    "start_time": "2023-04-28T19:14:22.189Z"
   },
   {
    "duration": 3,
    "start_time": "2023-04-28T19:14:27.391Z"
   },
   {
    "duration": 15,
    "start_time": "2023-04-28T19:14:27.395Z"
   },
   {
    "duration": 8,
    "start_time": "2023-04-28T19:14:27.412Z"
   },
   {
    "duration": 1510,
    "start_time": "2023-04-28T19:14:27.421Z"
   },
   {
    "duration": 3,
    "start_time": "2023-04-28T19:14:28.934Z"
   },
   {
    "duration": 4,
    "start_time": "2023-04-28T19:14:28.942Z"
   },
   {
    "duration": 5,
    "start_time": "2023-04-28T19:14:28.948Z"
   },
   {
    "duration": 714,
    "start_time": "2023-04-28T19:14:28.955Z"
   },
   {
    "duration": 123,
    "start_time": "2023-04-28T19:14:29.671Z"
   },
   {
    "duration": 245715,
    "start_time": "2023-04-28T19:14:29.796Z"
   },
   {
    "duration": 30,
    "start_time": "2023-04-28T19:18:35.512Z"
   },
   {
    "duration": 149136,
    "start_time": "2023-04-28T19:18:35.545Z"
   },
   {
    "duration": 6735,
    "start_time": "2023-04-28T19:21:04.683Z"
   },
   {
    "duration": 2,
    "start_time": "2023-04-28T19:21:11.420Z"
   },
   {
    "duration": 26,
    "start_time": "2023-04-28T19:21:11.424Z"
   }
  ],
  "kernelspec": {
   "display_name": "Python 3 (ipykernel)",
   "language": "python",
   "name": "python3"
  },
  "language_info": {
   "codemirror_mode": {
    "name": "ipython",
    "version": 3
   },
   "file_extension": ".py",
   "mimetype": "text/x-python",
   "name": "python",
   "nbconvert_exporter": "python",
   "pygments_lexer": "ipython3",
   "version": "3.9.5"
  },
  "toc": {
   "base_numbering": 1,
   "nav_menu": {},
   "number_sections": true,
   "sideBar": true,
   "skip_h1_title": true,
   "title_cell": "Содержание",
   "title_sidebar": "Contents",
   "toc_cell": true,
   "toc_position": {
    "height": "calc(100% - 180px)",
    "left": "10px",
    "top": "150px",
    "width": "302.391px"
   },
   "toc_section_display": true,
   "toc_window_display": false
  }
 },
 "nbformat": 4,
 "nbformat_minor": 2
}
